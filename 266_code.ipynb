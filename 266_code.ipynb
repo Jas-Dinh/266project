{
  "nbformat": 4,
  "nbformat_minor": 0,
  "metadata": {
    "colab": {
      "provenance": []
    },
    "kernelspec": {
      "name": "python3",
      "display_name": "Python 3"
    },
    "language_info": {
      "name": "python"
    }
  },
  "cells": [
    {
      "cell_type": "code",
      "execution_count": null,
      "metadata": {
        "id": "McO3Z98kPsKN"
      },
      "outputs": [],
      "source": []
    },
    {
      "cell_type": "code",
      "execution_count": null,
      "metadata": {
        "id": "ZtmzdaFIsQ_Y",
        "colab": {
          "base_uri": "https://localhost:8080/"
        },
        "outputId": "07f57160-757c-479e-f6c3-a5f74dfc23f1"
      },
      "outputs": [
        {
          "output_type": "stream",
          "name": "stdout",
          "text": [
            "\u001b[?25l   \u001b[90m━━━━━━━━━━━━━━━━━━━━━━━━━━━━━━━━━━━━━━━━\u001b[0m \u001b[32m0.0/5.2 MB\u001b[0m \u001b[31m?\u001b[0m eta \u001b[36m-:--:--\u001b[0m\r\u001b[2K   \u001b[91m━━━━━━━━━━\u001b[0m\u001b[91m╸\u001b[0m\u001b[90m━━━━━━━━━━━━━━━━━━━━━━━━━━━━━\u001b[0m \u001b[32m1.4/5.2 MB\u001b[0m \u001b[31m41.6 MB/s\u001b[0m eta \u001b[36m0:00:01\u001b[0m\r\u001b[2K   \u001b[91m━━━━━━━━━━━━━━━━━━━━━━━━━━━\u001b[0m\u001b[91m╸\u001b[0m\u001b[90m━━━━━━━━━━━━\u001b[0m \u001b[32m3.6/5.2 MB\u001b[0m \u001b[31m52.6 MB/s\u001b[0m eta \u001b[36m0:00:01\u001b[0m\r\u001b[2K   \u001b[91m━━━━━━━━━━━━━━━━━━━━━━━━━━━━━━━━━━━━━━━\u001b[0m\u001b[91m╸\u001b[0m \u001b[32m5.2/5.2 MB\u001b[0m \u001b[31m51.0 MB/s\u001b[0m eta \u001b[36m0:00:01\u001b[0m\r\u001b[2K   \u001b[90m━━━━━━━━━━━━━━━━━━━━━━━━━━━━━━━━━━━━━━━━\u001b[0m \u001b[32m5.2/5.2 MB\u001b[0m \u001b[31m38.2 MB/s\u001b[0m eta \u001b[36m0:00:00\u001b[0m\n",
            "\u001b[2K   \u001b[90m━━━━━━━━━━━━━━━━━━━━━━━━━━━━━━━━━━━━━━━━\u001b[0m \u001b[32m119.4/119.4 kB\u001b[0m \u001b[31m10.7 MB/s\u001b[0m eta \u001b[36m0:00:00\u001b[0m\n",
            "\u001b[2K   \u001b[90m━━━━━━━━━━━━━━━━━━━━━━━━━━━━━━━━━━━━━━━━\u001b[0m \u001b[32m475.2/475.2 MB\u001b[0m \u001b[31m2.2 MB/s\u001b[0m eta \u001b[36m0:00:00\u001b[0m\n",
            "\u001b[2K   \u001b[90m━━━━━━━━━━━━━━━━━━━━━━━━━━━━━━━━━━━━━━━━\u001b[0m \u001b[32m1.7/1.7 MB\u001b[0m \u001b[31m63.5 MB/s\u001b[0m eta \u001b[36m0:00:00\u001b[0m\n",
            "\u001b[2K   \u001b[90m━━━━━━━━━━━━━━━━━━━━━━━━━━━━━━━━━━━━━━━━\u001b[0m \u001b[32m1.0/1.0 MB\u001b[0m \u001b[31m61.6 MB/s\u001b[0m eta \u001b[36m0:00:00\u001b[0m\n",
            "\u001b[2K   \u001b[90m━━━━━━━━━━━━━━━━━━━━━━━━━━━━━━━━━━━━━━━━\u001b[0m \u001b[32m5.5/5.5 MB\u001b[0m \u001b[31m94.9 MB/s\u001b[0m eta \u001b[36m0:00:00\u001b[0m\n",
            "\u001b[2K   \u001b[90m━━━━━━━━━━━━━━━━━━━━━━━━━━━━━━━━━━━━━━━━\u001b[0m \u001b[32m442.0/442.0 kB\u001b[0m \u001b[31m35.2 MB/s\u001b[0m eta \u001b[36m0:00:00\u001b[0m\n",
            "\u001b[2K   \u001b[90m━━━━━━━━━━━━━━━━━━━━━━━━━━━━━━━━━━━━━━━━\u001b[0m \u001b[32m77.9/77.9 kB\u001b[0m \u001b[31m7.8 MB/s\u001b[0m eta \u001b[36m0:00:00\u001b[0m\n",
            "\u001b[?25h\u001b[31mERROR: pip's dependency resolver does not currently take into account all the packages that are installed. This behaviour is the source of the following dependency conflicts.\n",
            "tensorstore 0.1.69 requires ml-dtypes>=0.3.1, but you have ml-dtypes 0.2.0 which is incompatible.\n",
            "tf-keras 2.17.0 requires tensorflow<2.18,>=2.17, but you have tensorflow 2.15.0 which is incompatible.\u001b[0m\u001b[31m\n",
            "\u001b[2K   \u001b[90m━━━━━━━━━━━━━━━━━━━━━━━━━━━━━━━━━━━━━━━━\u001b[0m \u001b[32m1.7/1.7 MB\u001b[0m \u001b[31m29.7 MB/s\u001b[0m eta \u001b[36m0:00:00\u001b[0m\n",
            "\u001b[2K   \u001b[90m━━━━━━━━━━━━━━━━━━━━━━━━━━━━━━━━━━━━━━━━\u001b[0m \u001b[32m5.2/5.2 MB\u001b[0m \u001b[31m61.3 MB/s\u001b[0m eta \u001b[36m0:00:00\u001b[0m\n",
            "\u001b[2K     \u001b[90m━━━━━━━━━━━━━━━━━━━━━━━━━━━━━━━━━━━━━━━━\u001b[0m \u001b[32m67.9/67.9 kB\u001b[0m \u001b[31m3.3 MB/s\u001b[0m eta \u001b[36m0:00:00\u001b[0m\n",
            "\u001b[2K   \u001b[90m━━━━━━━━━━━━━━━━━━━━━━━━━━━━━━━━━━━━━━━━\u001b[0m \u001b[32m3.8/3.8 MB\u001b[0m \u001b[31m56.3 MB/s\u001b[0m eta \u001b[36m0:00:00\u001b[0m\n",
            "\u001b[2K   \u001b[90m━━━━━━━━━━━━━━━━━━━━━━━━━━━━━━━━━━━━━━━━\u001b[0m \u001b[32m897.5/897.5 kB\u001b[0m \u001b[31m59.9 MB/s\u001b[0m eta \u001b[36m0:00:00\u001b[0m\n",
            "\u001b[?25h\u001b[31mERROR: pip's dependency resolver does not currently take into account all the packages that are installed. This behaviour is the source of the following dependency conflicts.\n",
            "sentence-transformers 3.2.1 requires transformers<5.0.0,>=4.41.0, but you have transformers 4.17.0 which is incompatible.\u001b[0m\u001b[31m\n",
            "\u001b[0m"
          ]
        }
      ],
      "source": [
        "#Download Keras 2 versions of software\n",
        "!pip install tensorflow-datasets==4.8 --quiet\n",
        "!pip install tensorflow==2.15.0 --quiet #15 13\n",
        "!pip install tf_keras==2.15.0 --quiet\n",
        "!pip install tensorflow-text==2.15.0 --quiet #15\n",
        "!pip install pydot --quiet\n",
        "!pip install transformers==4.17 --quiet\n"
      ]
    },
    {
      "cell_type": "code",
      "execution_count": null,
      "metadata": {
        "id": "nhqaK9oQvViv"
      },
      "outputs": [],
      "source": [
        "import tensorflow as tf\n",
        "from transformers import TFBertModel, TFRobertaModel, BertTokenizer, RobertaTokenizer\n",
        "from sklearn.model_selection import train_test_split\n",
        "from sklearn.metrics import classification_report\n",
        "import pandas as pd\n",
        "import numpy as np"
      ]
    },
    {
      "cell_type": "code",
      "execution_count": null,
      "metadata": {
        "colab": {
          "base_uri": "https://localhost:8080/"
        },
        "id": "76WDQKeazkhK",
        "outputId": "4ffae0d4-943f-4a15-ade3-57bc15308344"
      },
      "outputs": [
        {
          "output_type": "stream",
          "name": "stdout",
          "text": [
            "Drive already mounted at /content/drive; to attempt to forcibly remount, call drive.mount(\"/content/drive\", force_remount=True).\n"
          ]
        }
      ],
      "source": [
        "from google.colab import drive\n",
        "drive.mount('/content/drive')"
      ]
    },
    {
      "cell_type": "code",
      "execution_count": null,
      "metadata": {
        "id": "QZ9Z_S-Z0CfE"
      },
      "outputs": [],
      "source": [
        "import os\n",
        "os.chdir('/content/drive/MyDrive/Colab Notebooks/266_project/')"
      ]
    },
    {
      "cell_type": "code",
      "execution_count": null,
      "metadata": {
        "id": "l4qCbRAAwYAc"
      },
      "outputs": [],
      "source": [
        "# Load Data\n",
        "true_articles = pd.read_csv(\"True.csv\")\n",
        "fake_articles = pd.read_csv(\"Fake.csv\")"
      ]
    },
    {
      "cell_type": "code",
      "execution_count": null,
      "metadata": {
        "id": "llOLAGGa0m74"
      },
      "outputs": [],
      "source": [
        "# Process data\n",
        "true_articles['label'] = 1\n",
        "fake_articles['label'] = 0\n",
        "\n",
        "combined_df = pd.concat([true_articles, fake_articles], ignore_index=True)\n",
        "combined_df = combined_df.sample(frac=1, random_state=42).reset_index(drop=True) #mix fake and true\n",
        "combined_df = combined_df[['title', 'text', 'label']] # dropped subject adn date\n",
        "combined_df = combined_df.dropna(subset=['title', 'text', 'label'])"
      ]
    },
    {
      "cell_type": "code",
      "execution_count": null,
      "metadata": {
        "colab": {
          "base_uri": "https://localhost:8080/",
          "height": 293
        },
        "id": "wqJTMnuH04bU",
        "outputId": "ba4ee085-adcd-49bf-b90b-aad8db75b3fb"
      },
      "outputs": [
        {
          "output_type": "execute_result",
          "data": {
            "text/plain": [
              "                                               title  \\\n",
              "0   BREAKING: GOP Chairman Grassley Has Had Enoug...   \n",
              "1   Failed GOP Candidates Remembered In Hilarious...   \n",
              "2   Mike Pence’s New DC Neighbors Are HILARIOUSLY...   \n",
              "3  California AG pledges to defend birth control ...   \n",
              "4  AZ RANCHERS Living On US-Mexico Border Destroy...   \n",
              "\n",
              "                                                text  label  \n",
              "0  Donald Trump s White House is in chaos, and th...      0  \n",
              "1  Now that Donald Trump is the presumptive GOP n...      0  \n",
              "2  Mike Pence is a huge homophobe. He supports ex...      0  \n",
              "3  SAN FRANCISCO (Reuters) - California Attorney ...      1  \n",
              "4  Twisted reasoning is all that comes from Pelos...      0  "
            ],
            "text/html": [
              "\n",
              "  <div id=\"df-c997e80d-d646-4464-ade3-7b75d0af3887\" class=\"colab-df-container\">\n",
              "    <div>\n",
              "<style scoped>\n",
              "    .dataframe tbody tr th:only-of-type {\n",
              "        vertical-align: middle;\n",
              "    }\n",
              "\n",
              "    .dataframe tbody tr th {\n",
              "        vertical-align: top;\n",
              "    }\n",
              "\n",
              "    .dataframe thead th {\n",
              "        text-align: right;\n",
              "    }\n",
              "</style>\n",
              "<table border=\"1\" class=\"dataframe\">\n",
              "  <thead>\n",
              "    <tr style=\"text-align: right;\">\n",
              "      <th></th>\n",
              "      <th>title</th>\n",
              "      <th>text</th>\n",
              "      <th>label</th>\n",
              "    </tr>\n",
              "  </thead>\n",
              "  <tbody>\n",
              "    <tr>\n",
              "      <th>0</th>\n",
              "      <td>BREAKING: GOP Chairman Grassley Has Had Enoug...</td>\n",
              "      <td>Donald Trump s White House is in chaos, and th...</td>\n",
              "      <td>0</td>\n",
              "    </tr>\n",
              "    <tr>\n",
              "      <th>1</th>\n",
              "      <td>Failed GOP Candidates Remembered In Hilarious...</td>\n",
              "      <td>Now that Donald Trump is the presumptive GOP n...</td>\n",
              "      <td>0</td>\n",
              "    </tr>\n",
              "    <tr>\n",
              "      <th>2</th>\n",
              "      <td>Mike Pence’s New DC Neighbors Are HILARIOUSLY...</td>\n",
              "      <td>Mike Pence is a huge homophobe. He supports ex...</td>\n",
              "      <td>0</td>\n",
              "    </tr>\n",
              "    <tr>\n",
              "      <th>3</th>\n",
              "      <td>California AG pledges to defend birth control ...</td>\n",
              "      <td>SAN FRANCISCO (Reuters) - California Attorney ...</td>\n",
              "      <td>1</td>\n",
              "    </tr>\n",
              "    <tr>\n",
              "      <th>4</th>\n",
              "      <td>AZ RANCHERS Living On US-Mexico Border Destroy...</td>\n",
              "      <td>Twisted reasoning is all that comes from Pelos...</td>\n",
              "      <td>0</td>\n",
              "    </tr>\n",
              "  </tbody>\n",
              "</table>\n",
              "</div>\n",
              "    <div class=\"colab-df-buttons\">\n",
              "\n",
              "  <div class=\"colab-df-container\">\n",
              "    <button class=\"colab-df-convert\" onclick=\"convertToInteractive('df-c997e80d-d646-4464-ade3-7b75d0af3887')\"\n",
              "            title=\"Convert this dataframe to an interactive table.\"\n",
              "            style=\"display:none;\">\n",
              "\n",
              "  <svg xmlns=\"http://www.w3.org/2000/svg\" height=\"24px\" viewBox=\"0 -960 960 960\">\n",
              "    <path d=\"M120-120v-720h720v720H120Zm60-500h600v-160H180v160Zm220 220h160v-160H400v160Zm0 220h160v-160H400v160ZM180-400h160v-160H180v160Zm440 0h160v-160H620v160ZM180-180h160v-160H180v160Zm440 0h160v-160H620v160Z\"/>\n",
              "  </svg>\n",
              "    </button>\n",
              "\n",
              "  <style>\n",
              "    .colab-df-container {\n",
              "      display:flex;\n",
              "      gap: 12px;\n",
              "    }\n",
              "\n",
              "    .colab-df-convert {\n",
              "      background-color: #E8F0FE;\n",
              "      border: none;\n",
              "      border-radius: 50%;\n",
              "      cursor: pointer;\n",
              "      display: none;\n",
              "      fill: #1967D2;\n",
              "      height: 32px;\n",
              "      padding: 0 0 0 0;\n",
              "      width: 32px;\n",
              "    }\n",
              "\n",
              "    .colab-df-convert:hover {\n",
              "      background-color: #E2EBFA;\n",
              "      box-shadow: 0px 1px 2px rgba(60, 64, 67, 0.3), 0px 1px 3px 1px rgba(60, 64, 67, 0.15);\n",
              "      fill: #174EA6;\n",
              "    }\n",
              "\n",
              "    .colab-df-buttons div {\n",
              "      margin-bottom: 4px;\n",
              "    }\n",
              "\n",
              "    [theme=dark] .colab-df-convert {\n",
              "      background-color: #3B4455;\n",
              "      fill: #D2E3FC;\n",
              "    }\n",
              "\n",
              "    [theme=dark] .colab-df-convert:hover {\n",
              "      background-color: #434B5C;\n",
              "      box-shadow: 0px 1px 3px 1px rgba(0, 0, 0, 0.15);\n",
              "      filter: drop-shadow(0px 1px 2px rgba(0, 0, 0, 0.3));\n",
              "      fill: #FFFFFF;\n",
              "    }\n",
              "  </style>\n",
              "\n",
              "    <script>\n",
              "      const buttonEl =\n",
              "        document.querySelector('#df-c997e80d-d646-4464-ade3-7b75d0af3887 button.colab-df-convert');\n",
              "      buttonEl.style.display =\n",
              "        google.colab.kernel.accessAllowed ? 'block' : 'none';\n",
              "\n",
              "      async function convertToInteractive(key) {\n",
              "        const element = document.querySelector('#df-c997e80d-d646-4464-ade3-7b75d0af3887');\n",
              "        const dataTable =\n",
              "          await google.colab.kernel.invokeFunction('convertToInteractive',\n",
              "                                                    [key], {});\n",
              "        if (!dataTable) return;\n",
              "\n",
              "        const docLinkHtml = 'Like what you see? Visit the ' +\n",
              "          '<a target=\"_blank\" href=https://colab.research.google.com/notebooks/data_table.ipynb>data table notebook</a>'\n",
              "          + ' to learn more about interactive tables.';\n",
              "        element.innerHTML = '';\n",
              "        dataTable['output_type'] = 'display_data';\n",
              "        await google.colab.output.renderOutput(dataTable, element);\n",
              "        const docLink = document.createElement('div');\n",
              "        docLink.innerHTML = docLinkHtml;\n",
              "        element.appendChild(docLink);\n",
              "      }\n",
              "    </script>\n",
              "  </div>\n",
              "\n",
              "\n",
              "<div id=\"df-87176000-72d3-435a-a0bf-f7d3ad963abb\">\n",
              "  <button class=\"colab-df-quickchart\" onclick=\"quickchart('df-87176000-72d3-435a-a0bf-f7d3ad963abb')\"\n",
              "            title=\"Suggest charts\"\n",
              "            style=\"display:none;\">\n",
              "\n",
              "<svg xmlns=\"http://www.w3.org/2000/svg\" height=\"24px\"viewBox=\"0 0 24 24\"\n",
              "     width=\"24px\">\n",
              "    <g>\n",
              "        <path d=\"M19 3H5c-1.1 0-2 .9-2 2v14c0 1.1.9 2 2 2h14c1.1 0 2-.9 2-2V5c0-1.1-.9-2-2-2zM9 17H7v-7h2v7zm4 0h-2V7h2v10zm4 0h-2v-4h2v4z\"/>\n",
              "    </g>\n",
              "</svg>\n",
              "  </button>\n",
              "\n",
              "<style>\n",
              "  .colab-df-quickchart {\n",
              "      --bg-color: #E8F0FE;\n",
              "      --fill-color: #1967D2;\n",
              "      --hover-bg-color: #E2EBFA;\n",
              "      --hover-fill-color: #174EA6;\n",
              "      --disabled-fill-color: #AAA;\n",
              "      --disabled-bg-color: #DDD;\n",
              "  }\n",
              "\n",
              "  [theme=dark] .colab-df-quickchart {\n",
              "      --bg-color: #3B4455;\n",
              "      --fill-color: #D2E3FC;\n",
              "      --hover-bg-color: #434B5C;\n",
              "      --hover-fill-color: #FFFFFF;\n",
              "      --disabled-bg-color: #3B4455;\n",
              "      --disabled-fill-color: #666;\n",
              "  }\n",
              "\n",
              "  .colab-df-quickchart {\n",
              "    background-color: var(--bg-color);\n",
              "    border: none;\n",
              "    border-radius: 50%;\n",
              "    cursor: pointer;\n",
              "    display: none;\n",
              "    fill: var(--fill-color);\n",
              "    height: 32px;\n",
              "    padding: 0;\n",
              "    width: 32px;\n",
              "  }\n",
              "\n",
              "  .colab-df-quickchart:hover {\n",
              "    background-color: var(--hover-bg-color);\n",
              "    box-shadow: 0 1px 2px rgba(60, 64, 67, 0.3), 0 1px 3px 1px rgba(60, 64, 67, 0.15);\n",
              "    fill: var(--button-hover-fill-color);\n",
              "  }\n",
              "\n",
              "  .colab-df-quickchart-complete:disabled,\n",
              "  .colab-df-quickchart-complete:disabled:hover {\n",
              "    background-color: var(--disabled-bg-color);\n",
              "    fill: var(--disabled-fill-color);\n",
              "    box-shadow: none;\n",
              "  }\n",
              "\n",
              "  .colab-df-spinner {\n",
              "    border: 2px solid var(--fill-color);\n",
              "    border-color: transparent;\n",
              "    border-bottom-color: var(--fill-color);\n",
              "    animation:\n",
              "      spin 1s steps(1) infinite;\n",
              "  }\n",
              "\n",
              "  @keyframes spin {\n",
              "    0% {\n",
              "      border-color: transparent;\n",
              "      border-bottom-color: var(--fill-color);\n",
              "      border-left-color: var(--fill-color);\n",
              "    }\n",
              "    20% {\n",
              "      border-color: transparent;\n",
              "      border-left-color: var(--fill-color);\n",
              "      border-top-color: var(--fill-color);\n",
              "    }\n",
              "    30% {\n",
              "      border-color: transparent;\n",
              "      border-left-color: var(--fill-color);\n",
              "      border-top-color: var(--fill-color);\n",
              "      border-right-color: var(--fill-color);\n",
              "    }\n",
              "    40% {\n",
              "      border-color: transparent;\n",
              "      border-right-color: var(--fill-color);\n",
              "      border-top-color: var(--fill-color);\n",
              "    }\n",
              "    60% {\n",
              "      border-color: transparent;\n",
              "      border-right-color: var(--fill-color);\n",
              "    }\n",
              "    80% {\n",
              "      border-color: transparent;\n",
              "      border-right-color: var(--fill-color);\n",
              "      border-bottom-color: var(--fill-color);\n",
              "    }\n",
              "    90% {\n",
              "      border-color: transparent;\n",
              "      border-bottom-color: var(--fill-color);\n",
              "    }\n",
              "  }\n",
              "</style>\n",
              "\n",
              "  <script>\n",
              "    async function quickchart(key) {\n",
              "      const quickchartButtonEl =\n",
              "        document.querySelector('#' + key + ' button');\n",
              "      quickchartButtonEl.disabled = true;  // To prevent multiple clicks.\n",
              "      quickchartButtonEl.classList.add('colab-df-spinner');\n",
              "      try {\n",
              "        const charts = await google.colab.kernel.invokeFunction(\n",
              "            'suggestCharts', [key], {});\n",
              "      } catch (error) {\n",
              "        console.error('Error during call to suggestCharts:', error);\n",
              "      }\n",
              "      quickchartButtonEl.classList.remove('colab-df-spinner');\n",
              "      quickchartButtonEl.classList.add('colab-df-quickchart-complete');\n",
              "    }\n",
              "    (() => {\n",
              "      let quickchartButtonEl =\n",
              "        document.querySelector('#df-87176000-72d3-435a-a0bf-f7d3ad963abb button');\n",
              "      quickchartButtonEl.style.display =\n",
              "        google.colab.kernel.accessAllowed ? 'block' : 'none';\n",
              "    })();\n",
              "  </script>\n",
              "</div>\n",
              "\n",
              "    </div>\n",
              "  </div>\n"
            ],
            "application/vnd.google.colaboratory.intrinsic+json": {
              "type": "dataframe",
              "variable_name": "combined_df",
              "summary": "{\n  \"name\": \"combined_df\",\n  \"rows\": 44898,\n  \"fields\": [\n    {\n      \"column\": \"title\",\n      \"properties\": {\n        \"dtype\": \"string\",\n        \"num_unique_values\": 38729,\n        \"samples\": [\n          \" Nobody In Oregon Seems To Want The Bundy Militia There\",\n          \" The GOP Just Revealed What They REALLY Think About \\u2018National Security\\u2019\",\n          \"Mayors of NY and Los Angeles pledge to remain immigrant sanctuaries\"\n        ],\n        \"semantic_type\": \"\",\n        \"description\": \"\"\n      }\n    },\n    {\n      \"column\": \"text\",\n      \"properties\": {\n        \"dtype\": \"string\",\n        \"num_unique_values\": 38646,\n        \"samples\": [\n          \"At this point, there is no doubt that Vladimir Putin s Russian regime hacked the 2016 election, and they did it with one purpose: To elect Donald Trump President of the United States. Now that this effort has been successful, many Republicans are doing all they can to pretend that this isn t as serious as it is, since it benefits their party and chosen American leader. However, one American hero is FURIOUS with his fellow Republicans over their response to these Russian hacks, and that is former prisoner of war and Arizona Senator John McCain.Senator McCain appeared on CNN s State of the Union on Sunday morning, and had some very strong warnings for those who refuse to take the fact that Russia hacked our elections for the threat to this great republic that it is. McCain said to host Jake Tapper: This is the sign of a possible unraveling of the world order that was established after World War II, which has made one of the most peaceful periods in the history of the world. This is serious business. If they re able to harm the electoral process, they may destroy democracy, which is based on free and fair elections. Because of the gravity of this situation, McCain is going up against his fellow Republicans and calling for a special committee to investigate the activities of the Russians and especially Vladimir Putin, and insists that it must be done in a timely and bipartisan fashion, without regard for political gains or consequences. Thus far, McCain and South Carolina Senator Lindsey Graham are the only ones being forceful here, as the two most powerful Republicans in Congress, House Speaker Paul Ryan and Senate Majority Leader Mitch McConnell, are instead choosing to roll over for Donald Trump. However, McCain isn t letting up. He has written a letter to McConnell, signed by fellow Republican Senator Lindsey Graham, as well as Senate Minority Leader Chuck Schumer ( D-NY) and Democratic Senator Jack Reed (D-RI). The letter said, in part: Cyber is the rare kind of all-encompassing challenge for which the Congress s jurisdictional boundaries are an impediment to sufficient oversight and legislative action. Only a select committee that is time-limited, cross-jurisdictional, and purpose-driven can address the challenge of cyber,  the letter said.  We believe it is justified by the extraordinary scope and scale of the cyber problem. This is what bipartisan patriotism looks like. Direct threats to our democracy like what Russia has done is nothing to play with simply because it benefits one s own party. I never though I d say this, but why can t more Republicans be like John McCain and Lindsey Graham?McCain continued to Tapper: There s no doubt they were interfering and no doubt it was a cyber-attack. The question now is how much and what damage and what should the United States of America do? And so far, we ve been totally paralyzed. I m sure that when Vladimir Putin was told quote  cut it out  unquote, I m sure that Vladimir Putin immediately stopped all cyber-activities. The truth is, they are hacking every single day. So true. This is a threat that must be met head on, and with as much force as possible, party politics be damned. Our very way of life depends upon it.Watch McCain s remarks below:[ad3media campaign= 1398 ]Featured image via Chip Somodevilla/Getty Images\",\n          \"All we re hearing from the left is fear mongering about President Trump s budget. We love what welfare to work is coming back after Obama stripped it out of requirements to receive benefits. Food stamp enrollment exploded during Obama s 8 years in office to be 44 million recipients.The American taxpayers are footing the bill for those who take advantage of the system. Here s the TRUTH about what the Trump administration has proposed for food stamps:WORK REQUIREMENTS: In reality, the president s proposed policy is based on two principles: requiring able-bodied adult recipients to work or prepare for work in exchange for benefits, and restoring minimal fiscal responsibility to state governments for the welfare programs they operate.The president s budget reasserts the basic concept that welfare should not be a one-way handout. Welfare should, instead, be based on reciprocal obligations between recipients and taxpayers.SHIFTING MORE RESPONSIBILITY ON STATES:Why should the federal government pay for almost all of the freebies? Shifting the responsibility to the states will help with accountability. Perhaps some of the states will make a better effort to clean up the fraud that s so rampant in the system.Read more: Daily Signal\",\n          \"MADRID (Reuters) - The Spanish government could use constitutional powers to suspend Catalonia s autonomy and prevent the region from splitting from Spain, Prime Minister Mariano Rajoy said in an interview to newspaper El Pais published late on Saturday. Asked if he was ready to trigger the article 155 of the constitution, which enables him to sack the regional government and call a fresh local election, Rajoy answered:  I don t rule out absolutely anything that is within the law ... Ideally, it shouldn t be necessary to implement extreme solutions but for that not to happen things would have to be changed.  Rajoy also said he planned to leave in Catalonia the extra 4,000 police officers the government had shipped in to region for an independence vote on Oct. 1 until the crisis was over.  The conservative prime minister added he would not call a snap national election as a result of the political crisis and  ruled out using mediation to resolve it. \"\n        ],\n        \"semantic_type\": \"\",\n        \"description\": \"\"\n      }\n    },\n    {\n      \"column\": \"label\",\n      \"properties\": {\n        \"dtype\": \"number\",\n        \"std\": 0,\n        \"min\": 0,\n        \"max\": 1,\n        \"num_unique_values\": 2,\n        \"samples\": [\n          1,\n          0\n        ],\n        \"semantic_type\": \"\",\n        \"description\": \"\"\n      }\n    }\n  ]\n}"
            }
          },
          "metadata": {},
          "execution_count": 7
        }
      ],
      "source": [
        "combined_df.head()"
      ]
    },
    {
      "cell_type": "code",
      "execution_count": null,
      "metadata": {
        "id": "j_XW5caG1R1d"
      },
      "outputs": [],
      "source": [
        "# Process data for model\n",
        "n = 0.1\n",
        "\n",
        "df = combined_df.dropna(subset=[\"text\", \"label\"])\n",
        "subset_df, rest = train_test_split(df, test_size=(1 - n), stratify=df['label'],  random_state=42)# 80% train/val, 20% test\n",
        "train_val_texts, test_texts, train_val_labels, test_labels = train_test_split(\n",
        "    subset_df['text'], subset_df['label'], test_size=0.2, stratify = subset_df['label'], random_state=42)\n",
        "# 60% train, 20% val\n",
        "train_texts, val_texts, train_labels, val_labels = train_test_split(\n",
        "    train_val_texts, train_val_labels, test_size=0.25, stratify = train_val_labels, random_state=42 )\n",
        "\n"
      ]
    },
    {
      "cell_type": "code",
      "source": [
        "subset_df"
      ],
      "metadata": {
        "colab": {
          "base_uri": "https://localhost:8080/",
          "height": 580
        },
        "id": "2p50gqtShUng",
        "outputId": "56863493-e6bf-432e-f21f-15b918486a13"
      },
      "execution_count": null,
      "outputs": [
        {
          "output_type": "execute_result",
          "data": {
            "text/plain": [
              "                                                   title  \\\n",
              "4676   COL RALPH PETERS Rips Into Obama On “Fantasy W...   \n",
              "22324  EU Commission says it has not changed its posi...   \n",
              "1055   Court allows Democratic states to defend Obama...   \n",
              "4263    Missouri Republican Calls Getting Pregnant Th...   \n",
              "30970   Donald Trump Could Be Running The Greatest Sc...   \n",
              "...                                                  ...   \n",
              "17446  McConnell says planned vote on Obamacare repea...   \n",
              "19349  Colombian president confirms bilateral ceasefi...   \n",
              "3138   Iran's Rouhani says Trump election has no effe...   \n",
              "30305   In The Midst Of Scandal, Office Containing Fl...   \n",
              "19564   Newt Gingrich Attempted To Stiff Small Busine...   \n",
              "\n",
              "                                                    text  label  \n",
              "4676   This is a great take on the foreign policy of ...      0  \n",
              "22324  BRUSSELS (Reuters) - The European Commission s...      1  \n",
              "1055   WASHINGTON (Reuters) - A U.S. appeals court on...      1  \n",
              "4263   If Republicans had hoped to escape 2016 withou...      0  \n",
              "30970  Donald Trump likes to promote himself a shrewd...      0  \n",
              "...                                                  ...    ...  \n",
              "17446  WASHINGTON (Reuters) - U.S. Senate Republican ...      1  \n",
              "19349  BOGOTA (Reuters) - Colombian President Juan Ma...      1  \n",
              "3138   BEIRUT (Reuters) - Iran’s President Hassan Rou...      1  \n",
              "30305  As the Department of Justice prepared to inves...      0  \n",
              "19564  Newt Gingrich, former House Speaker and now Tr...      0  \n",
              "\n",
              "[4489 rows x 3 columns]"
            ],
            "text/html": [
              "\n",
              "  <div id=\"df-ace5e062-c141-4518-8c69-998000925b4f\" class=\"colab-df-container\">\n",
              "    <div>\n",
              "<style scoped>\n",
              "    .dataframe tbody tr th:only-of-type {\n",
              "        vertical-align: middle;\n",
              "    }\n",
              "\n",
              "    .dataframe tbody tr th {\n",
              "        vertical-align: top;\n",
              "    }\n",
              "\n",
              "    .dataframe thead th {\n",
              "        text-align: right;\n",
              "    }\n",
              "</style>\n",
              "<table border=\"1\" class=\"dataframe\">\n",
              "  <thead>\n",
              "    <tr style=\"text-align: right;\">\n",
              "      <th></th>\n",
              "      <th>title</th>\n",
              "      <th>text</th>\n",
              "      <th>label</th>\n",
              "    </tr>\n",
              "  </thead>\n",
              "  <tbody>\n",
              "    <tr>\n",
              "      <th>4676</th>\n",
              "      <td>COL RALPH PETERS Rips Into Obama On “Fantasy W...</td>\n",
              "      <td>This is a great take on the foreign policy of ...</td>\n",
              "      <td>0</td>\n",
              "    </tr>\n",
              "    <tr>\n",
              "      <th>22324</th>\n",
              "      <td>EU Commission says it has not changed its posi...</td>\n",
              "      <td>BRUSSELS (Reuters) - The European Commission s...</td>\n",
              "      <td>1</td>\n",
              "    </tr>\n",
              "    <tr>\n",
              "      <th>1055</th>\n",
              "      <td>Court allows Democratic states to defend Obama...</td>\n",
              "      <td>WASHINGTON (Reuters) - A U.S. appeals court on...</td>\n",
              "      <td>1</td>\n",
              "    </tr>\n",
              "    <tr>\n",
              "      <th>4263</th>\n",
              "      <td>Missouri Republican Calls Getting Pregnant Th...</td>\n",
              "      <td>If Republicans had hoped to escape 2016 withou...</td>\n",
              "      <td>0</td>\n",
              "    </tr>\n",
              "    <tr>\n",
              "      <th>30970</th>\n",
              "      <td>Donald Trump Could Be Running The Greatest Sc...</td>\n",
              "      <td>Donald Trump likes to promote himself a shrewd...</td>\n",
              "      <td>0</td>\n",
              "    </tr>\n",
              "    <tr>\n",
              "      <th>...</th>\n",
              "      <td>...</td>\n",
              "      <td>...</td>\n",
              "      <td>...</td>\n",
              "    </tr>\n",
              "    <tr>\n",
              "      <th>17446</th>\n",
              "      <td>McConnell says planned vote on Obamacare repea...</td>\n",
              "      <td>WASHINGTON (Reuters) - U.S. Senate Republican ...</td>\n",
              "      <td>1</td>\n",
              "    </tr>\n",
              "    <tr>\n",
              "      <th>19349</th>\n",
              "      <td>Colombian president confirms bilateral ceasefi...</td>\n",
              "      <td>BOGOTA (Reuters) - Colombian President Juan Ma...</td>\n",
              "      <td>1</td>\n",
              "    </tr>\n",
              "    <tr>\n",
              "      <th>3138</th>\n",
              "      <td>Iran's Rouhani says Trump election has no effe...</td>\n",
              "      <td>BEIRUT (Reuters) - Iran’s President Hassan Rou...</td>\n",
              "      <td>1</td>\n",
              "    </tr>\n",
              "    <tr>\n",
              "      <th>30305</th>\n",
              "      <td>In The Midst Of Scandal, Office Containing Fl...</td>\n",
              "      <td>As the Department of Justice prepared to inves...</td>\n",
              "      <td>0</td>\n",
              "    </tr>\n",
              "    <tr>\n",
              "      <th>19564</th>\n",
              "      <td>Newt Gingrich Attempted To Stiff Small Busine...</td>\n",
              "      <td>Newt Gingrich, former House Speaker and now Tr...</td>\n",
              "      <td>0</td>\n",
              "    </tr>\n",
              "  </tbody>\n",
              "</table>\n",
              "<p>4489 rows × 3 columns</p>\n",
              "</div>\n",
              "    <div class=\"colab-df-buttons\">\n",
              "\n",
              "  <div class=\"colab-df-container\">\n",
              "    <button class=\"colab-df-convert\" onclick=\"convertToInteractive('df-ace5e062-c141-4518-8c69-998000925b4f')\"\n",
              "            title=\"Convert this dataframe to an interactive table.\"\n",
              "            style=\"display:none;\">\n",
              "\n",
              "  <svg xmlns=\"http://www.w3.org/2000/svg\" height=\"24px\" viewBox=\"0 -960 960 960\">\n",
              "    <path d=\"M120-120v-720h720v720H120Zm60-500h600v-160H180v160Zm220 220h160v-160H400v160Zm0 220h160v-160H400v160ZM180-400h160v-160H180v160Zm440 0h160v-160H620v160ZM180-180h160v-160H180v160Zm440 0h160v-160H620v160Z\"/>\n",
              "  </svg>\n",
              "    </button>\n",
              "\n",
              "  <style>\n",
              "    .colab-df-container {\n",
              "      display:flex;\n",
              "      gap: 12px;\n",
              "    }\n",
              "\n",
              "    .colab-df-convert {\n",
              "      background-color: #E8F0FE;\n",
              "      border: none;\n",
              "      border-radius: 50%;\n",
              "      cursor: pointer;\n",
              "      display: none;\n",
              "      fill: #1967D2;\n",
              "      height: 32px;\n",
              "      padding: 0 0 0 0;\n",
              "      width: 32px;\n",
              "    }\n",
              "\n",
              "    .colab-df-convert:hover {\n",
              "      background-color: #E2EBFA;\n",
              "      box-shadow: 0px 1px 2px rgba(60, 64, 67, 0.3), 0px 1px 3px 1px rgba(60, 64, 67, 0.15);\n",
              "      fill: #174EA6;\n",
              "    }\n",
              "\n",
              "    .colab-df-buttons div {\n",
              "      margin-bottom: 4px;\n",
              "    }\n",
              "\n",
              "    [theme=dark] .colab-df-convert {\n",
              "      background-color: #3B4455;\n",
              "      fill: #D2E3FC;\n",
              "    }\n",
              "\n",
              "    [theme=dark] .colab-df-convert:hover {\n",
              "      background-color: #434B5C;\n",
              "      box-shadow: 0px 1px 3px 1px rgba(0, 0, 0, 0.15);\n",
              "      filter: drop-shadow(0px 1px 2px rgba(0, 0, 0, 0.3));\n",
              "      fill: #FFFFFF;\n",
              "    }\n",
              "  </style>\n",
              "\n",
              "    <script>\n",
              "      const buttonEl =\n",
              "        document.querySelector('#df-ace5e062-c141-4518-8c69-998000925b4f button.colab-df-convert');\n",
              "      buttonEl.style.display =\n",
              "        google.colab.kernel.accessAllowed ? 'block' : 'none';\n",
              "\n",
              "      async function convertToInteractive(key) {\n",
              "        const element = document.querySelector('#df-ace5e062-c141-4518-8c69-998000925b4f');\n",
              "        const dataTable =\n",
              "          await google.colab.kernel.invokeFunction('convertToInteractive',\n",
              "                                                    [key], {});\n",
              "        if (!dataTable) return;\n",
              "\n",
              "        const docLinkHtml = 'Like what you see? Visit the ' +\n",
              "          '<a target=\"_blank\" href=https://colab.research.google.com/notebooks/data_table.ipynb>data table notebook</a>'\n",
              "          + ' to learn more about interactive tables.';\n",
              "        element.innerHTML = '';\n",
              "        dataTable['output_type'] = 'display_data';\n",
              "        await google.colab.output.renderOutput(dataTable, element);\n",
              "        const docLink = document.createElement('div');\n",
              "        docLink.innerHTML = docLinkHtml;\n",
              "        element.appendChild(docLink);\n",
              "      }\n",
              "    </script>\n",
              "  </div>\n",
              "\n",
              "\n",
              "<div id=\"df-bf24323a-5572-44dc-8890-7d737b9bda77\">\n",
              "  <button class=\"colab-df-quickchart\" onclick=\"quickchart('df-bf24323a-5572-44dc-8890-7d737b9bda77')\"\n",
              "            title=\"Suggest charts\"\n",
              "            style=\"display:none;\">\n",
              "\n",
              "<svg xmlns=\"http://www.w3.org/2000/svg\" height=\"24px\"viewBox=\"0 0 24 24\"\n",
              "     width=\"24px\">\n",
              "    <g>\n",
              "        <path d=\"M19 3H5c-1.1 0-2 .9-2 2v14c0 1.1.9 2 2 2h14c1.1 0 2-.9 2-2V5c0-1.1-.9-2-2-2zM9 17H7v-7h2v7zm4 0h-2V7h2v10zm4 0h-2v-4h2v4z\"/>\n",
              "    </g>\n",
              "</svg>\n",
              "  </button>\n",
              "\n",
              "<style>\n",
              "  .colab-df-quickchart {\n",
              "      --bg-color: #E8F0FE;\n",
              "      --fill-color: #1967D2;\n",
              "      --hover-bg-color: #E2EBFA;\n",
              "      --hover-fill-color: #174EA6;\n",
              "      --disabled-fill-color: #AAA;\n",
              "      --disabled-bg-color: #DDD;\n",
              "  }\n",
              "\n",
              "  [theme=dark] .colab-df-quickchart {\n",
              "      --bg-color: #3B4455;\n",
              "      --fill-color: #D2E3FC;\n",
              "      --hover-bg-color: #434B5C;\n",
              "      --hover-fill-color: #FFFFFF;\n",
              "      --disabled-bg-color: #3B4455;\n",
              "      --disabled-fill-color: #666;\n",
              "  }\n",
              "\n",
              "  .colab-df-quickchart {\n",
              "    background-color: var(--bg-color);\n",
              "    border: none;\n",
              "    border-radius: 50%;\n",
              "    cursor: pointer;\n",
              "    display: none;\n",
              "    fill: var(--fill-color);\n",
              "    height: 32px;\n",
              "    padding: 0;\n",
              "    width: 32px;\n",
              "  }\n",
              "\n",
              "  .colab-df-quickchart:hover {\n",
              "    background-color: var(--hover-bg-color);\n",
              "    box-shadow: 0 1px 2px rgba(60, 64, 67, 0.3), 0 1px 3px 1px rgba(60, 64, 67, 0.15);\n",
              "    fill: var(--button-hover-fill-color);\n",
              "  }\n",
              "\n",
              "  .colab-df-quickchart-complete:disabled,\n",
              "  .colab-df-quickchart-complete:disabled:hover {\n",
              "    background-color: var(--disabled-bg-color);\n",
              "    fill: var(--disabled-fill-color);\n",
              "    box-shadow: none;\n",
              "  }\n",
              "\n",
              "  .colab-df-spinner {\n",
              "    border: 2px solid var(--fill-color);\n",
              "    border-color: transparent;\n",
              "    border-bottom-color: var(--fill-color);\n",
              "    animation:\n",
              "      spin 1s steps(1) infinite;\n",
              "  }\n",
              "\n",
              "  @keyframes spin {\n",
              "    0% {\n",
              "      border-color: transparent;\n",
              "      border-bottom-color: var(--fill-color);\n",
              "      border-left-color: var(--fill-color);\n",
              "    }\n",
              "    20% {\n",
              "      border-color: transparent;\n",
              "      border-left-color: var(--fill-color);\n",
              "      border-top-color: var(--fill-color);\n",
              "    }\n",
              "    30% {\n",
              "      border-color: transparent;\n",
              "      border-left-color: var(--fill-color);\n",
              "      border-top-color: var(--fill-color);\n",
              "      border-right-color: var(--fill-color);\n",
              "    }\n",
              "    40% {\n",
              "      border-color: transparent;\n",
              "      border-right-color: var(--fill-color);\n",
              "      border-top-color: var(--fill-color);\n",
              "    }\n",
              "    60% {\n",
              "      border-color: transparent;\n",
              "      border-right-color: var(--fill-color);\n",
              "    }\n",
              "    80% {\n",
              "      border-color: transparent;\n",
              "      border-right-color: var(--fill-color);\n",
              "      border-bottom-color: var(--fill-color);\n",
              "    }\n",
              "    90% {\n",
              "      border-color: transparent;\n",
              "      border-bottom-color: var(--fill-color);\n",
              "    }\n",
              "  }\n",
              "</style>\n",
              "\n",
              "  <script>\n",
              "    async function quickchart(key) {\n",
              "      const quickchartButtonEl =\n",
              "        document.querySelector('#' + key + ' button');\n",
              "      quickchartButtonEl.disabled = true;  // To prevent multiple clicks.\n",
              "      quickchartButtonEl.classList.add('colab-df-spinner');\n",
              "      try {\n",
              "        const charts = await google.colab.kernel.invokeFunction(\n",
              "            'suggestCharts', [key], {});\n",
              "      } catch (error) {\n",
              "        console.error('Error during call to suggestCharts:', error);\n",
              "      }\n",
              "      quickchartButtonEl.classList.remove('colab-df-spinner');\n",
              "      quickchartButtonEl.classList.add('colab-df-quickchart-complete');\n",
              "    }\n",
              "    (() => {\n",
              "      let quickchartButtonEl =\n",
              "        document.querySelector('#df-bf24323a-5572-44dc-8890-7d737b9bda77 button');\n",
              "      quickchartButtonEl.style.display =\n",
              "        google.colab.kernel.accessAllowed ? 'block' : 'none';\n",
              "    })();\n",
              "  </script>\n",
              "</div>\n",
              "\n",
              "  <div id=\"id_c7d57c62-cd43-4c1a-859c-c39bd2e4133e\">\n",
              "    <style>\n",
              "      .colab-df-generate {\n",
              "        background-color: #E8F0FE;\n",
              "        border: none;\n",
              "        border-radius: 50%;\n",
              "        cursor: pointer;\n",
              "        display: none;\n",
              "        fill: #1967D2;\n",
              "        height: 32px;\n",
              "        padding: 0 0 0 0;\n",
              "        width: 32px;\n",
              "      }\n",
              "\n",
              "      .colab-df-generate:hover {\n",
              "        background-color: #E2EBFA;\n",
              "        box-shadow: 0px 1px 2px rgba(60, 64, 67, 0.3), 0px 1px 3px 1px rgba(60, 64, 67, 0.15);\n",
              "        fill: #174EA6;\n",
              "      }\n",
              "\n",
              "      [theme=dark] .colab-df-generate {\n",
              "        background-color: #3B4455;\n",
              "        fill: #D2E3FC;\n",
              "      }\n",
              "\n",
              "      [theme=dark] .colab-df-generate:hover {\n",
              "        background-color: #434B5C;\n",
              "        box-shadow: 0px 1px 3px 1px rgba(0, 0, 0, 0.15);\n",
              "        filter: drop-shadow(0px 1px 2px rgba(0, 0, 0, 0.3));\n",
              "        fill: #FFFFFF;\n",
              "      }\n",
              "    </style>\n",
              "    <button class=\"colab-df-generate\" onclick=\"generateWithVariable('subset_df')\"\n",
              "            title=\"Generate code using this dataframe.\"\n",
              "            style=\"display:none;\">\n",
              "\n",
              "  <svg xmlns=\"http://www.w3.org/2000/svg\" height=\"24px\"viewBox=\"0 0 24 24\"\n",
              "       width=\"24px\">\n",
              "    <path d=\"M7,19H8.4L18.45,9,17,7.55,7,17.6ZM5,21V16.75L18.45,3.32a2,2,0,0,1,2.83,0l1.4,1.43a1.91,1.91,0,0,1,.58,1.4,1.91,1.91,0,0,1-.58,1.4L9.25,21ZM18.45,9,17,7.55Zm-12,3A5.31,5.31,0,0,0,4.9,8.1,5.31,5.31,0,0,0,1,6.5,5.31,5.31,0,0,0,4.9,4.9,5.31,5.31,0,0,0,6.5,1,5.31,5.31,0,0,0,8.1,4.9,5.31,5.31,0,0,0,12,6.5,5.46,5.46,0,0,0,6.5,12Z\"/>\n",
              "  </svg>\n",
              "    </button>\n",
              "    <script>\n",
              "      (() => {\n",
              "      const buttonEl =\n",
              "        document.querySelector('#id_c7d57c62-cd43-4c1a-859c-c39bd2e4133e button.colab-df-generate');\n",
              "      buttonEl.style.display =\n",
              "        google.colab.kernel.accessAllowed ? 'block' : 'none';\n",
              "\n",
              "      buttonEl.onclick = () => {\n",
              "        google.colab.notebook.generateWithVariable('subset_df');\n",
              "      }\n",
              "      })();\n",
              "    </script>\n",
              "  </div>\n",
              "\n",
              "    </div>\n",
              "  </div>\n"
            ],
            "application/vnd.google.colaboratory.intrinsic+json": {
              "type": "dataframe",
              "variable_name": "subset_df",
              "summary": "{\n  \"name\": \"subset_df\",\n  \"rows\": 4489,\n  \"fields\": [\n    {\n      \"column\": \"title\",\n      \"properties\": {\n        \"dtype\": \"string\",\n        \"num_unique_values\": 4407,\n        \"samples\": [\n          \"Illinois ends spring session without a FY 2017 budget\",\n          \"NOT KIDDING: Why Government Is Forcing Manhattan Landlord To Give $3200 A Month Apartment To Immigrant Free For Life\",\n          \"NON-PROFIT VIOLENT Berkeley BAMN Leader Surprised When Tables Are Turned On Him During Interview [VIDEO]\"\n        ],\n        \"semantic_type\": \"\",\n        \"description\": \"\"\n      }\n    },\n    {\n      \"column\": \"text\",\n      \"properties\": {\n        \"dtype\": \"string\",\n        \"num_unique_values\": 4349,\n        \"samples\": [\n          \"UNITED NATIONS (Reuters) - The new U.S. ambassador to the United Nations, Nikki Haley, pledged on Friday to overhaul the world body and warned U.S. allies that if they do not support Washington, then she is \\u201ctaking names\\u201d and will respond. Haley made brief remarks to reporters as she arrived at the world body\\u2019s headquarters in New York to present her credentials to U.N. Secretary-General Antonio Guterres. \\u201cOur goal with the administration is to show value at the U.N. and the way that we\\u2019ll show value is to show our strength, show our voice, have the backs of our allies and make sure that our allies have our back as well,\\u201d Haley said. \\u201cFor those that don\\u2019t have our back, we\\u2019re taking names, we will make points to respond to that accordingly,\\u201d added Republican President Donald Trump\\u2019s U.N. envoy.  Haley, who was South Carolina\\u2019s Republican governor when Trump picked her for the post, has little foreign policy and no U.S. federal government experience. French U.N. Ambassador Francois Delattre and British U.N. Ambassador Matthew Rycroft said they looked forward to working with Haley. The United States, Britain and France, along with Russia and China, are permanent veto-wielding members of the U.N. Security Council.  After her meeting with Guterres, a U.S. official said they had \\u201ca good and productive conversation about ways they can work together to reform the U.N.\\u201d Haley told reporters, \\u201cEverything that\\u2019s working, we\\u2019re going to make it better, everything that\\u2019s not working we\\u2019re going to try and fix, and anything that seems to be obsolete and not necessary we\\u2019re going to do away with.\\u201d  According to a draft executive order published by The Daily Beast, Trump wants a committee - including his secretary of state, attorney general and director of national intelligence -to carry out a one-year review of U.S. funding to international organizations with the aim of almost halving voluntary funding. A senior U.S. administration official said on Friday that no such executive order was \\u201cexpected at this time.\\u201d The United States is the largest contributor to the United Nations, paying 22 percent of the $5.4 billion core U.N. budget and 28 percent of the $7.9 billion U.N. peacekeeping budget. These are assessed contributions - agreed by the U.N. General Assembly - and not voluntary payments.  U.N. agencies, such as the U.N. Development Programme, the children\\u2019s agency UNICEF, the World Food Programme and the U.N. Population Fund, are funded voluntarily. Last year, Trump took to Twitter to disparage the 193-member world body after the United States abstained in a Dec. 23 U.N. Security Council vote, allowing the adoption of a resolution demanding an end to settlement building by U.S. ally Israel. Trump, who had called on President Barack Obama\\u2019s administration to veto the resolution, warned that \\u201cthings will be different\\u201d at the United Nations after he took office on Jan. 20. \",\n          \"Saturday Night Live handled Trump spokesidiot Kellyanne Conway s shaky relationship with the press ever since the last of her credibility died in the Bowling Green Massacre in the best way possible   by parodying the erotic thriller  Fatal Attraction. After CNN s Jake Tapper (Beck Bennett) refuses to allow her on the air because of the credibility issues presented by her just making things up   like certain nonexistent massacres   Conway (Kate McKinnon) ambushes him at his home. Jesus, Kellyanne, what the hell are you doing here?  Tapper asks. I just want to be a part of the news, Jake,  she replies.This is how you do it? By breaking into my apartment?  Tapper says. Well, what was I supposed to do? You weren t answering my calls. You changed your number. I m not going to be ignored, Jake!  Conway screams. You don t get it, Kellyanne,  Tapper tells her.  You made up a massacre, we can t have you on. Yes, things are pretty weird at this point, but they get weirder. But I miss the news. I want to get mic d  Conway says as she presses up against Tapper.  I want to feel that hot, black, mic pressed up against my skin. We won t ruin the rest for you. Watch it below:Featured image via screengrab\",\n          \"The following statements\\u00a0were posted to the verified Twitter accounts of U.S. President Donald Trump, @realDonaldTrump and @POTUS.  The opinions expressed are his own.\\u00a0Reuters has not edited the statements or confirmed their accuracy.  @realDonaldTrump : - Based on the fact that the very unfair and unpopular Individual Mandate has been terminated as part of our Tax Cut Bill, which essentially Repeals (over time) ObamaCare, the Democrats & Republicans will eventually come together and develop a great new HealthCare plan! [0658 EST] - WOW, @foxandfrlends \\u201cDossier is bogus. Clinton Campaign, DNC funded Dossier. FBI CANNOT (after all of this time) VERIFY CLAIMS IN DOSSIER OF RUSSIA/TRUMP COLLUSION. FBI TAINTED.\\u201d And they used this Crooked Hillary pile of garbage as the basis for going after the Trump Campaign! [0824 EST] - All signs are that business is looking really good for next year, only to be helped further by our Tax Cut Bill. Will be a great year for Companies and JOBS! Stock Market is poised for another year of SUCCESS! [17:17 EST] -- Source link: (bit.ly/2jBh4LU) (bit.ly/2jpEXYR) \"\n        ],\n        \"semantic_type\": \"\",\n        \"description\": \"\"\n      }\n    },\n    {\n      \"column\": \"label\",\n      \"properties\": {\n        \"dtype\": \"number\",\n        \"std\": 0,\n        \"min\": 0,\n        \"max\": 1,\n        \"num_unique_values\": 2,\n        \"samples\": [\n          1,\n          0\n        ],\n        \"semantic_type\": \"\",\n        \"description\": \"\"\n      }\n    }\n  ]\n}"
            }
          },
          "metadata": {},
          "execution_count": 9
        }
      ]
    },
    {
      "cell_type": "code",
      "execution_count": null,
      "metadata": {
        "id": "02q1HhUj2QEU"
      },
      "outputs": [],
      "source": [
        "# Constants\n",
        "MAX_SEQUENCE_LENGTH = 128\n",
        "BATCH_SIZE = 16\n",
        "EPOCHS = 2"
      ]
    },
    {
      "cell_type": "code",
      "execution_count": null,
      "metadata": {
        "id": "iXNxfJYF2HnP"
      },
      "outputs": [],
      "source": [
        "#tokenize\n",
        "def encode_texts(texts, tokenizer, max_len=MAX_SEQUENCE_LENGTH):\n",
        "    return tokenizer(\n",
        "        list(texts),\n",
        "        max_length=max_len,\n",
        "        truncation=True,\n",
        "        padding='max_length',\n",
        "        return_tensors='tf'\n",
        "    )"
      ]
    },
    {
      "cell_type": "code",
      "execution_count": null,
      "metadata": {
        "id": "pklN3N7I2cwR",
        "colab": {
          "base_uri": "https://localhost:8080/",
          "height": 113,
          "referenced_widgets": [
            "ad912489c16543e593582e88d7893f68",
            "c0aaf04f7d7e43ddb7667ee45ae0b408",
            "256cbbe78e10474f919067b2e3c4244e",
            "eb4b550a0c014403b326eb6e8fa31e3a",
            "609dba5c214d43baa8a63b8ad8d03a49",
            "b7322d7205d7422db33f26711e24bd2f",
            "8c626b2b425344c38a23087c667dd8e6",
            "20e37f75af93418f9e00d164a0aeb599",
            "6aca183e04914fcb85ea3b427125862b",
            "6998fae48e9e47069e7dddde68332f64",
            "fec53e62932b41758de69eec413b71a6",
            "7610371661a84e06880028f9e5af7932",
            "b383be67c3c443668c4790c6a7b482b5",
            "3ec948bd57f5474391b1f9e0fa057bab",
            "4bf2b4d69a884ec5a7de49ac9c95b116",
            "1508d5405f4a4dc582a88f693ee6a418",
            "fe7671d6a2e748e9aaad77928e785775",
            "4c529c0061554bc7a4b45d58da894d1d",
            "49bc654e435d4e8c8274d1c7537bc3d6",
            "0da9703a6dfc4c8595c99cd481181a76",
            "d49a46234f9444428fb71105249ad997",
            "46a62c4c980e44cd898448c322e01e79",
            "3aad20bb47eb4cf9af5c73a16c27bbfa",
            "21611bdca8484d8bb067bfd6e44b0569",
            "a1af080b662e4b46876e448f94b85129",
            "14bd57500e584897ba79e22f3de1f330",
            "7f5169ab718a4cbaa59fa83500275647",
            "0482236e27334824b6173181e3c339ee",
            "cf344dd9831e4552acb563974357bce3",
            "7d2d12c67adb4f9db4e25828cfdbc89a",
            "00efd08146f14dd3be8ea74e195ff1f6",
            "5c2d1033b86742718f3591c224c34140",
            "4b448a8a918d40a59e8771f6e4a7d5d3"
          ]
        },
        "outputId": "487f0047-3517-4e4d-94f8-f6aae88a84d9"
      },
      "outputs": [
        {
          "output_type": "display_data",
          "data": {
            "text/plain": [
              "Downloading:   0%|          | 0.00/226k [00:00<?, ?B/s]"
            ],
            "application/vnd.jupyter.widget-view+json": {
              "version_major": 2,
              "version_minor": 0,
              "model_id": "ad912489c16543e593582e88d7893f68"
            }
          },
          "metadata": {}
        },
        {
          "output_type": "display_data",
          "data": {
            "text/plain": [
              "Downloading:   0%|          | 0.00/48.0 [00:00<?, ?B/s]"
            ],
            "application/vnd.jupyter.widget-view+json": {
              "version_major": 2,
              "version_minor": 0,
              "model_id": "7610371661a84e06880028f9e5af7932"
            }
          },
          "metadata": {}
        },
        {
          "output_type": "display_data",
          "data": {
            "text/plain": [
              "Downloading:   0%|          | 0.00/570 [00:00<?, ?B/s]"
            ],
            "application/vnd.jupyter.widget-view+json": {
              "version_major": 2,
              "version_minor": 0,
              "model_id": "3aad20bb47eb4cf9af5c73a16c27bbfa"
            }
          },
          "metadata": {}
        }
      ],
      "source": [
        "b_tokenizer = BertTokenizer.from_pretrained(\"bert-base-uncased\")"
      ]
    },
    {
      "cell_type": "code",
      "execution_count": null,
      "metadata": {
        "id": "4dQcCqbn2f6m"
      },
      "outputs": [],
      "source": [
        "train_encodings = encode_texts(train_texts, b_tokenizer)\n",
        "val_encodings = encode_texts(val_texts, b_tokenizer)\n",
        "test_encodings = encode_texts(test_texts, b_tokenizer)"
      ]
    },
    {
      "cell_type": "code",
      "source": [
        "# Convert to tf dataset\n",
        "train_dataset = tf.data.Dataset.from_tensor_slices((\n",
        "    {\n",
        "        \"input_ids\": train_encodings[\"input_ids\"],\n",
        "        \"attention_mask\": train_encodings[\"attention_mask\"]\n",
        "    },\n",
        "    train_labels\n",
        ")).batch(BATCH_SIZE)\n",
        "\n",
        "val_dataset = tf.data.Dataset.from_tensor_slices((\n",
        "    {\n",
        "        \"input_ids\": val_encodings[\"input_ids\"],\n",
        "        \"attention_mask\": val_encodings[\"attention_mask\"]\n",
        "    },\n",
        "    val_labels\n",
        ")).batch(BATCH_SIZE)\n",
        "\n",
        "test_dataset = tf.data.Dataset.from_tensor_slices((\n",
        "    {\n",
        "        \"input_ids\": test_encodings[\"input_ids\"],\n",
        "        \"attention_mask\": test_encodings[\"attention_mask\"]\n",
        "    },\n",
        "    test_labels\n",
        ")).batch(BATCH_SIZE)"
      ],
      "metadata": {
        "id": "ou3haQxR-H3H"
      },
      "execution_count": null,
      "outputs": []
    },
    {
      "cell_type": "code",
      "source": [
        "def create_transformer_classification_model(transformer_model, num_train_layers=0, hidden_size=200, dropout=0.3, learning_rate=5e-5):\n",
        "    \"\"\"\n",
        "    Build a classification model using a transformer (BERT or RoBERTa).\n",
        "    \"\"\"\n",
        "    if num_train_layers == 0:\n",
        "        transformer_model.trainable = False\n",
        "    elif num_train_layers < len(transformer_model.layers):\n",
        "        for layer in transformer_model.layers[:-num_train_layers]:\n",
        "            layer.trainable = False\n",
        "    else:\n",
        "        transformer_model.trainable = True\n",
        "\n",
        "    input_ids = tf.keras.layers.Input(shape=(MAX_SEQUENCE_LENGTH,), dtype=tf.int32, name=\"input_ids\")\n",
        "    attention_mask = tf.keras.layers.Input(shape=(MAX_SEQUENCE_LENGTH,), dtype=tf.int32, name=\"attention_mask\")\n",
        "\n",
        "    transformer_inputs = {\"input_ids\": input_ids, \"attention_mask\": attention_mask}\n",
        "    transformer_output = transformer_model(transformer_inputs)\n",
        "    pooler_output = transformer_output.pooler_output  # [CLS] token output\n",
        "\n",
        "    hidden = tf.keras.layers.Dense(hidden_size, activation=\"relu\", name=\"hidden_layer\")(pooler_output)\n",
        "    hidden = tf.keras.layers.Dropout(dropout)(hidden)\n",
        "    output = tf.keras.layers.Dense(1, activation=\"sigmoid\", name=\"classification_layer\")(hidden)\n",
        "\n",
        "    model = tf.keras.Model(inputs=[input_ids, attention_mask], outputs=output)\n",
        "    model.compile(\n",
        "        optimizer=tf.keras.optimizers.Adam(learning_rate=learning_rate),\n",
        "        loss=tf.keras.losses.BinaryCrossentropy(from_logits=False),\n",
        "        metrics=[\"accuracy\"]\n",
        "    )\n",
        "    return model\n"
      ],
      "metadata": {
        "id": "SrQ7X6Pa-Oq4"
      },
      "execution_count": null,
      "outputs": []
    },
    {
      "cell_type": "code",
      "source": [
        "bert_model = TFBertModel.from_pretrained(\"bert-base-uncased\")"
      ],
      "metadata": {
        "colab": {
          "base_uri": "https://localhost:8080/",
          "height": 156,
          "referenced_widgets": [
            "b0552b5ef25e4b71bad0b23539c8bd44",
            "407085ea82b545f29b6a658e55c92e34",
            "6e2c90b3beed4e2ab30fb48ddd5e9796",
            "96ca5755319b4c87b2d92d731abce84f",
            "7d7532aba2ce426a9b5881d6387a1a49",
            "052bbc18b073475e916788b4653b0e4a",
            "58a2ba7b34ef499a8baedcdbb9d47d76",
            "5a6df22dba24409ebd15c1474eabd88b",
            "a67e155e44d940b6a7f6614152d7df07",
            "93ea8a83b4ee4a4bb3e46f8d3b492b61",
            "45b83c1ff95543bc81ddd84e06cc44eb"
          ]
        },
        "id": "XZTWMj8M-iqi",
        "outputId": "b60e74de-5571-4e69-d21a-ffb25b3203e1"
      },
      "execution_count": null,
      "outputs": [
        {
          "output_type": "display_data",
          "data": {
            "text/plain": [
              "Downloading:   0%|          | 0.00/511M [00:00<?, ?B/s]"
            ],
            "application/vnd.jupyter.widget-view+json": {
              "version_major": 2,
              "version_minor": 0,
              "model_id": "b0552b5ef25e4b71bad0b23539c8bd44"
            }
          },
          "metadata": {}
        },
        {
          "output_type": "stream",
          "name": "stderr",
          "text": [
            "Some layers from the model checkpoint at bert-base-uncased were not used when initializing TFBertModel: ['mlm___cls', 'nsp___cls']\n",
            "- This IS expected if you are initializing TFBertModel from the checkpoint of a model trained on another task or with another architecture (e.g. initializing a BertForSequenceClassification model from a BertForPreTraining model).\n",
            "- This IS NOT expected if you are initializing TFBertModel from the checkpoint of a model that you expect to be exactly identical (initializing a BertForSequenceClassification model from a BertForSequenceClassification model).\n",
            "All the layers of TFBertModel were initialized from the model checkpoint at bert-base-uncased.\n",
            "If your task is similar to the task the model of the checkpoint was trained on, you can already use TFBertModel for predictions without further training.\n"
          ]
        }
      ]
    },
    {
      "cell_type": "code",
      "source": [
        "bert_classification_model = create_transformer_classification_model(bert_model, num_train_layers = 2  )\n",
        "history = bert_classification_model.fit(train_dataset, validation_data=val_dataset, epochs=EPOCHS)"
      ],
      "metadata": {
        "colab": {
          "base_uri": "https://localhost:8080/"
        },
        "id": "SoKHWGen-11q",
        "outputId": "aa8f966d-74ba-4a25-f47c-f08b8a9b355c"
      },
      "execution_count": null,
      "outputs": [
        {
          "output_type": "stream",
          "name": "stdout",
          "text": [
            "Epoch 1/2\n",
            "169/169 [==============================] - 122s 489ms/step - loss: 0.0790 - accuracy: 0.9647 - val_loss: 0.0144 - val_accuracy: 0.9978\n",
            "Epoch 2/2\n",
            "169/169 [==============================] - 81s 477ms/step - loss: 0.0200 - accuracy: 0.9967 - val_loss: 0.0011 - val_accuracy: 1.0000\n"
          ]
        }
      ]
    },
    {
      "cell_type": "code",
      "source": [
        "bert_preds = (bert_classification_model.predict(test_dataset) > 0.5).astype(\"int32\").flatten()\n"
      ],
      "metadata": {
        "colab": {
          "base_uri": "https://localhost:8080/"
        },
        "id": "iK6Iqq6Z-6h7",
        "outputId": "f46dbcbc-6c25-4ffe-a731-18f2c6c3d279"
      },
      "execution_count": null,
      "outputs": [
        {
          "output_type": "stream",
          "name": "stdout",
          "text": [
            "57/57 [==============================] - 11s 142ms/step\n"
          ]
        }
      ]
    },
    {
      "cell_type": "code",
      "source": [
        "print(\"BERT Model Results:\")\n",
        "print(classification_report(test_labels, bert_preds))"
      ],
      "metadata": {
        "colab": {
          "base_uri": "https://localhost:8080/"
        },
        "id": "WaOhHT58lM98",
        "outputId": "8bbc37f7-8b99-4e16-e019-70f25349b07a"
      },
      "execution_count": null,
      "outputs": [
        {
          "output_type": "stream",
          "name": "stdout",
          "text": [
            "BERT Model Results:\n",
            "              precision    recall  f1-score   support\n",
            "\n",
            "           0       1.00      1.00      1.00       470\n",
            "           1       1.00      1.00      1.00       428\n",
            "\n",
            "    accuracy                           1.00       898\n",
            "   macro avg       1.00      1.00      1.00       898\n",
            "weighted avg       1.00      1.00      1.00       898\n",
            "\n"
          ]
        }
      ]
    },
    {
      "cell_type": "markdown",
      "source": [
        "# Roberta"
      ],
      "metadata": {
        "id": "aoiQSjE4rVJV"
      }
    },
    {
      "cell_type": "code",
      "source": [
        "r_tokenizer = RobertaTokenizer.from_pretrained(\"roberta-base\")"
      ],
      "metadata": {
        "id": "dYGzlZmfkWSX",
        "colab": {
          "base_uri": "https://localhost:8080/",
          "height": 145,
          "referenced_widgets": [
            "4f9191b046944055ba6fc9e7c79dac38",
            "9d1fa83f54334b4f842c49771b4c2641",
            "09ba4d2cadd8431a9f458688d1821cc2",
            "3e65f826903345f2a94fb222bf1ceb20",
            "7c649305c8294e2b90e613a27226fb9f",
            "d57d9241a96c45b490941de960a563cd",
            "d8c9080a515947e1ae470fde267b0d40",
            "da8db076bd1041baaffa5d18694dad42",
            "ce334c6c271d45ccafe24aaa298b2801",
            "eaa1693870db4ea5960a95b1df406b57",
            "85ff9bdc266f48988628907297e066bc",
            "3fc3d040dac74725a03510d97a0792e6",
            "bdf41448bbcf4dc6965b8ff9a5e06db2",
            "2dd3dda6227544a79809713cfc087151",
            "1d6d75bc6e6143e3863258cc2969cab6",
            "0adbb2baaa5e455f9a3e161a4b6d499f",
            "38d159238c7d43669b6e852ecad51b40",
            "16a98b680fb548a9aa07b6642861b515",
            "39cce0806f3d4dd7a655819dcdb25c36",
            "94bf6f15940a47af99624e13e0b65b3d",
            "ed644939554440ca882e14e73551884e",
            "f82f7a36745c4cbbbc62b07057398c1c",
            "629fe406226f44f1959647bc0c235af6",
            "e06f28884f24474d8d0192e04ae0b2d9",
            "545aa654000b4a7bb569bd410c13ce7a",
            "fea0d93dff07406eb8e5cc96ed395d0f",
            "ad882e75734140159ab847dd20e89365",
            "75aa03eb15224435a6eea8bf01fcdc8c",
            "c29b34c78cb847fc8f644a716f450eef",
            "1878624b4b474403ada1ac0366ccef89",
            "b0b584ee6370440ea49f17fdec7a6c3d",
            "5db0cd3d0bb84c1983974179b5a12f9c",
            "a7cbee288aef4b3393708d1ea3f56115",
            "8794ba8fcf9d4cf0b5042f41cea82fcd",
            "1a1b297477794d208993bd0b18d3454e",
            "0d67a88af0b9401390048d5ac7537c33",
            "28a0796f1ad44b089cede13e86ae2cc5",
            "01456d08c7fa456f96f85a46bb68dd22",
            "338410ec45b3435ea8ab8422a1a14ede",
            "79468174ffa4454a90da77a8e82ab9d6",
            "4ee8d213d8d04fc295f1fb41ebd9db5d",
            "e7c95b2b9a6a4d49ab2d846e26f6fe4b",
            "f6bb6f13c8944a669ac18261c3ac2dfe",
            "1c4d32d6cbdc449aa88e0dd796052e37"
          ]
        },
        "outputId": "6f0562e5-236c-4f5a-b4dd-e4ed87736723"
      },
      "execution_count": null,
      "outputs": [
        {
          "output_type": "display_data",
          "data": {
            "text/plain": [
              "Downloading:   0%|          | 0.00/878k [00:00<?, ?B/s]"
            ],
            "application/vnd.jupyter.widget-view+json": {
              "version_major": 2,
              "version_minor": 0,
              "model_id": "4f9191b046944055ba6fc9e7c79dac38"
            }
          },
          "metadata": {}
        },
        {
          "output_type": "display_data",
          "data": {
            "text/plain": [
              "Downloading:   0%|          | 0.00/446k [00:00<?, ?B/s]"
            ],
            "application/vnd.jupyter.widget-view+json": {
              "version_major": 2,
              "version_minor": 0,
              "model_id": "3fc3d040dac74725a03510d97a0792e6"
            }
          },
          "metadata": {}
        },
        {
          "output_type": "display_data",
          "data": {
            "text/plain": [
              "Downloading:   0%|          | 0.00/25.0 [00:00<?, ?B/s]"
            ],
            "application/vnd.jupyter.widget-view+json": {
              "version_major": 2,
              "version_minor": 0,
              "model_id": "629fe406226f44f1959647bc0c235af6"
            }
          },
          "metadata": {}
        },
        {
          "output_type": "display_data",
          "data": {
            "text/plain": [
              "Downloading:   0%|          | 0.00/481 [00:00<?, ?B/s]"
            ],
            "application/vnd.jupyter.widget-view+json": {
              "version_major": 2,
              "version_minor": 0,
              "model_id": "8794ba8fcf9d4cf0b5042f41cea82fcd"
            }
          },
          "metadata": {}
        }
      ]
    },
    {
      "cell_type": "code",
      "execution_count": null,
      "metadata": {
        "id": "JyoF_H_gklSy"
      },
      "outputs": [],
      "source": [
        "train_encodings = encode_texts(train_texts, r_tokenizer)\n",
        "val_encodings = encode_texts(val_texts, r_tokenizer)\n",
        "test_encodings = encode_texts(test_texts, r_tokenizer)"
      ]
    },
    {
      "cell_type": "code",
      "source": [
        "# Convert to tf dataset\n",
        "train_dataset = tf.data.Dataset.from_tensor_slices((\n",
        "    {\n",
        "        \"input_ids\": train_encodings[\"input_ids\"],\n",
        "        \"attention_mask\": train_encodings[\"attention_mask\"]\n",
        "    },\n",
        "    train_labels\n",
        ")).batch(BATCH_SIZE)\n",
        "\n",
        "val_dataset = tf.data.Dataset.from_tensor_slices((\n",
        "    {\n",
        "        \"input_ids\": val_encodings[\"input_ids\"],\n",
        "        \"attention_mask\": val_encodings[\"attention_mask\"]\n",
        "    },\n",
        "    val_labels\n",
        ")).batch(BATCH_SIZE)\n",
        "\n",
        "test_dataset = tf.data.Dataset.from_tensor_slices((\n",
        "    {\n",
        "        \"input_ids\": test_encodings[\"input_ids\"],\n",
        "        \"attention_mask\": test_encodings[\"attention_mask\"]\n",
        "    },\n",
        "    test_labels\n",
        ")).batch(BATCH_SIZE)"
      ],
      "metadata": {
        "id": "xNejtka9klSy"
      },
      "execution_count": null,
      "outputs": []
    },
    {
      "cell_type": "code",
      "source": [
        "roberta_model = TFRobertaModel.from_pretrained(\"roberta-base\")"
      ],
      "metadata": {
        "colab": {
          "base_uri": "https://localhost:8080/",
          "height": 156,
          "referenced_widgets": [
            "3f58075e2f844766b60d3c74f280cdc6",
            "f81742d190d047af9a749c0ca6e286b0",
            "ad0a56ba658344dbb8f34edff2fcf551",
            "3cd1317ac90f46fdb1c8ed12ddcbc9c2",
            "ef3abaeba9f6410c976615105e4c7935",
            "d6344381234c44fe8e5923bb153230b1",
            "0cd8270565a94ad7a34242667f098772",
            "a974886871924f098160cf5f9fbc5005",
            "6781fbe4d5fc4f10905ae2f36a8482d9",
            "c253c0fe489c45b28b9e6b4e2731a843",
            "a4aa1fcc115f46319c4e343403323306"
          ]
        },
        "id": "CQm_P-LRkpOA",
        "outputId": "7273c084-d102-456f-9b8f-0074f976a590"
      },
      "execution_count": null,
      "outputs": [
        {
          "output_type": "display_data",
          "data": {
            "text/plain": [
              "Downloading:   0%|          | 0.00/627M [00:00<?, ?B/s]"
            ],
            "application/vnd.jupyter.widget-view+json": {
              "version_major": 2,
              "version_minor": 0,
              "model_id": "3f58075e2f844766b60d3c74f280cdc6"
            }
          },
          "metadata": {}
        },
        {
          "output_type": "stream",
          "name": "stderr",
          "text": [
            "Some layers from the model checkpoint at roberta-base were not used when initializing TFRobertaModel: ['lm_head']\n",
            "- This IS expected if you are initializing TFRobertaModel from the checkpoint of a model trained on another task or with another architecture (e.g. initializing a BertForSequenceClassification model from a BertForPreTraining model).\n",
            "- This IS NOT expected if you are initializing TFRobertaModel from the checkpoint of a model that you expect to be exactly identical (initializing a BertForSequenceClassification model from a BertForSequenceClassification model).\n",
            "All the layers of TFRobertaModel were initialized from the model checkpoint at roberta-base.\n",
            "If your task is similar to the task the model of the checkpoint was trained on, you can already use TFRobertaModel for predictions without further training.\n"
          ]
        }
      ]
    },
    {
      "cell_type": "code",
      "source": [
        "roberta_classification_model = create_transformer_classification_model(roberta_model, num_train_layers = 2  )\n",
        "history2 = roberta_classification_model.fit(train_dataset, validation_data=val_dataset, epochs=EPOCHS)"
      ],
      "metadata": {
        "colab": {
          "base_uri": "https://localhost:8080/"
        },
        "id": "Z1eaOn4Fkuuj",
        "outputId": "0c8e45dd-12df-471f-9235-3b36520b524e"
      },
      "execution_count": null,
      "outputs": [
        {
          "output_type": "stream",
          "name": "stdout",
          "text": [
            "Epoch 1/2\n",
            "169/169 [==============================] - 126s 490ms/step - loss: 0.0569 - accuracy: 0.9777 - val_loss: 1.3198e-04 - val_accuracy: 1.0000\n",
            "Epoch 2/2\n",
            "169/169 [==============================] - 80s 476ms/step - loss: 0.0280 - accuracy: 0.9955 - val_loss: 0.0091 - val_accuracy: 0.9989\n"
          ]
        }
      ]
    },
    {
      "cell_type": "code",
      "source": [
        "roberta_preds = (roberta_classification_model.predict(test_dataset) > 0.5).astype(\"int32\").flatten()\n"
      ],
      "metadata": {
        "colab": {
          "base_uri": "https://localhost:8080/"
        },
        "id": "VEFElq2Ak9C_",
        "outputId": "d0a38b3e-4bed-415e-cc92-154a0b05de33"
      },
      "execution_count": null,
      "outputs": [
        {
          "output_type": "stream",
          "name": "stdout",
          "text": [
            "57/57 [==============================] - 11s 138ms/step\n"
          ]
        }
      ]
    },
    {
      "cell_type": "code",
      "source": [
        "print(\"RoBERTa Model Results:\")\n",
        "print(classification_report(test_labels, roberta_preds))"
      ],
      "metadata": {
        "colab": {
          "base_uri": "https://localhost:8080/"
        },
        "id": "XPPVnmSDrdGE",
        "outputId": "ba6ad1a9-46ec-4acc-c353-01d21fb3aa58"
      },
      "execution_count": null,
      "outputs": [
        {
          "output_type": "stream",
          "name": "stdout",
          "text": [
            "RoBERTa Model Results:\n",
            "              precision    recall  f1-score   support\n",
            "\n",
            "           0       1.00      1.00      1.00       470\n",
            "           1       1.00      1.00      1.00       428\n",
            "\n",
            "    accuracy                           1.00       898\n",
            "   macro avg       1.00      1.00      1.00       898\n",
            "weighted avg       1.00      1.00      1.00       898\n",
            "\n"
          ]
        }
      ]
    },
    {
      "cell_type": "code",
      "source": [
        "import matplotlib.pyplot as plt"
      ],
      "metadata": {
        "id": "ALLSRI3B4QD1"
      },
      "execution_count": null,
      "outputs": []
    },
    {
      "cell_type": "code",
      "source": [
        "print(history.history.keys())\n",
        "print(history2.history.keys())\n"
      ],
      "metadata": {
        "colab": {
          "base_uri": "https://localhost:8080/"
        },
        "id": "vbXUl7Gt4-8W",
        "outputId": "b66a2985-6f1b-41e5-812b-419315e67f3e"
      },
      "execution_count": null,
      "outputs": [
        {
          "output_type": "stream",
          "name": "stdout",
          "text": [
            "dict_keys(['loss', 'accuracy', 'val_loss', 'val_accuracy'])\n",
            "dict_keys(['loss', 'accuracy', 'val_loss', 'val_accuracy'])\n"
          ]
        }
      ]
    },
    {
      "cell_type": "code",
      "source": [
        "plt.plot(history.history['loss'], label='BERT Training Loss')\n",
        "plt.plot(history.history['val_loss'], label='BERT Validation Loss')\n",
        "plt.legend()\n",
        "plt.show()"
      ],
      "metadata": {
        "colab": {
          "base_uri": "https://localhost:8080/",
          "height": 430
        },
        "id": "El8rzMpA5qEu",
        "outputId": "0e14d154-4939-4c49-a696-f33721e50ff4"
      },
      "execution_count": null,
      "outputs": [
        {
          "output_type": "display_data",
          "data": {
            "text/plain": [
              "<Figure size 640x480 with 1 Axes>"
            ],
            "image/png": "[encoded data removed]"
          },
          "metadata": {}
        }
      ]
    },
    {
      "cell_type": "code",
      "source": [
        "plt.plot(history2.history['loss'], label='RoBERTa Training Loss')\n",
        "plt.plot(history2.history['val_loss'], label='RoBERTa Validation Loss')\n",
        "plt.legend()\n",
        "plt.show()"
      ],
      "metadata": {
        "colab": {
          "base_uri": "https://localhost:8080/",
          "height": 430
        },
        "id": "FKcnj8WG6EYd",
        "outputId": "13eb3939-ed61-42d7-87c0-735ff6dce804"
      },
      "execution_count": null,
      "outputs": [
        {
          "output_type": "display_data",
          "data": {
            "text/plain": [
              "<Figure size 640x480 with 1 Axes>"
            ],
            "image/png": "[encoded data removed]"
          },
          "metadata": {}
        }
      ]
    },
    {
      "cell_type": "code",
      "source": [
        "plt.plot(history.history['accuracy'], label='BERT Training Accuracy')\n",
        "plt.plot(history.history['val_accuracy'], label='BERT Validation Accuracy')\n",
        "plt.legend()\n",
        "plt.show()"
      ],
      "metadata": {
        "colab": {
          "base_uri": "https://localhost:8080/",
          "height": 430
        },
        "id": "DPbxxcEJ5v7K",
        "outputId": "fbd2cfef-e05c-4e10-c146-09324a7e998e"
      },
      "execution_count": null,
      "outputs": [
        {
          "output_type": "display_data",
          "data": {
            "text/plain": [
              "<Figure size 640x480 with 1 Axes>"
            ],
            "image/png": "[encoded data removed]"
          },
          "metadata": {}
        }
      ]
    },
    {
      "cell_type": "code",
      "source": [
        "plt.plot(history2.history['accuracy'], label='RoBERTa Training Accuracy')\n",
        "plt.plot(history2.history['val_accuracy'], label='RoBERTa Validation Accuracy')\n",
        "plt.legend()\n",
        "plt.show()"
      ],
      "metadata": {
        "colab": {
          "base_uri": "https://localhost:8080/",
          "height": 430
        },
        "id": "1Ga98zwn55A9",
        "outputId": "3f7dd3a1-6a54-4361-cbc8-efa0253630bd"
      },
      "execution_count": null,
      "outputs": [
        {
          "output_type": "display_data",
          "data": {
            "text/plain": [
              "<Figure size 640x480 with 1 Axes>"
            ],
            "image/png": "[encoded data removed]"
          },
          "metadata": {}
        }
      ]
    },
    {
      "cell_type": "markdown",
      "source": [
        "#LR"
      ],
      "metadata": {
        "id": "BBvAcC3B6faL"
      }
    },
    {
      "cell_type": "code",
      "source": [
        "from sklearn.feature_extraction.text import TfidfVectorizer\n",
        "from sklearn.linear_model import LogisticRegression"
      ],
      "metadata": {
        "id": "iWhDqz696ij1"
      },
      "execution_count": null,
      "outputs": []
    },
    {
      "cell_type": "code",
      "source": [
        "vectorizer = TfidfVectorizer(max_features=5000, stop_words=\"english\")\n"
      ],
      "metadata": {
        "id": "raSsmIFk6gSM"
      },
      "execution_count": null,
      "outputs": []
    },
    {
      "cell_type": "code",
      "source": [
        "X_train = vectorizer.fit_transform(train_texts)\n",
        "X_val = vectorizer.transform(val_texts)\n",
        "X_test = vectorizer.transform(test_texts)\n",
        "\n",
        "y_train = train_labels\n",
        "y_val = val_labels\n",
        "y_test = test_labels"
      ],
      "metadata": {
        "id": "Oar18VmQ6ylH"
      },
      "execution_count": null,
      "outputs": []
    },
    {
      "cell_type": "code",
      "source": [
        "logistic_model = LogisticRegression(max_iter=1000, random_state=42)\n",
        "logistic_model.fit(X_train, y_train)"
      ],
      "metadata": {
        "colab": {
          "base_uri": "https://localhost:8080/",
          "height": 80
        },
        "id": "wztU-cd-7LW3",
        "outputId": "95dc6062-c653-4624-f86d-8a232795c21e"
      },
      "execution_count": null,
      "outputs": [
        {
          "output_type": "execute_result",
          "data": {
            "text/plain": [
              "LogisticRegression(max_iter=1000, random_state=42)"
            ],
            "text/html": [
              "<style>#sk-container-id-1 {\n",
              "  /* Definition of color scheme common for light and dark mode */\n",
              "  --sklearn-color-text: black;\n",
              "  --sklearn-color-line: gray;\n",
              "  /* Definition of color scheme for unfitted estimators */\n",
              "  --sklearn-color-unfitted-level-0: #fff5e6;\n",
              "  --sklearn-color-unfitted-level-1: #f6e4d2;\n",
              "  --sklearn-color-unfitted-level-2: #ffe0b3;\n",
              "  --sklearn-color-unfitted-level-3: chocolate;\n",
              "  /* Definition of color scheme for fitted estimators */\n",
              "  --sklearn-color-fitted-level-0: #f0f8ff;\n",
              "  --sklearn-color-fitted-level-1: #d4ebff;\n",
              "  --sklearn-color-fitted-level-2: #b3dbfd;\n",
              "  --sklearn-color-fitted-level-3: cornflowerblue;\n",
              "\n",
              "  /* Specific color for light theme */\n",
              "  --sklearn-color-text-on-default-background: var(--sg-text-color, var(--theme-code-foreground, var(--jp-content-font-color1, black)));\n",
              "  --sklearn-color-background: var(--sg-background-color, var(--theme-background, var(--jp-layout-color0, white)));\n",
              "  --sklearn-color-border-box: var(--sg-text-color, var(--theme-code-foreground, var(--jp-content-font-color1, black)));\n",
              "  --sklearn-color-icon: #696969;\n",
              "\n",
              "  @media (prefers-color-scheme: dark) {\n",
              "    /* Redefinition of color scheme for dark theme */\n",
              "    --sklearn-color-text-on-default-background: var(--sg-text-color, var(--theme-code-foreground, var(--jp-content-font-color1, white)));\n",
              "    --sklearn-color-background: var(--sg-background-color, var(--theme-background, var(--jp-layout-color0, #111)));\n",
              "    --sklearn-color-border-box: var(--sg-text-color, var(--theme-code-foreground, var(--jp-content-font-color1, white)));\n",
              "    --sklearn-color-icon: #878787;\n",
              "  }\n",
              "}\n",
              "\n",
              "#sk-container-id-1 {\n",
              "  color: var(--sklearn-color-text);\n",
              "}\n",
              "\n",
              "#sk-container-id-1 pre {\n",
              "  padding: 0;\n",
              "}\n",
              "\n",
              "#sk-container-id-1 input.sk-hidden--visually {\n",
              "  border: 0;\n",
              "  clip: rect(1px 1px 1px 1px);\n",
              "  clip: rect(1px, 1px, 1px, 1px);\n",
              "  height: 1px;\n",
              "  margin: -1px;\n",
              "  overflow: hidden;\n",
              "  padding: 0;\n",
              "  position: absolute;\n",
              "  width: 1px;\n",
              "}\n",
              "\n",
              "#sk-container-id-1 div.sk-dashed-wrapped {\n",
              "  border: 1px dashed var(--sklearn-color-line);\n",
              "  margin: 0 0.4em 0.5em 0.4em;\n",
              "  box-sizing: border-box;\n",
              "  padding-bottom: 0.4em;\n",
              "  background-color: var(--sklearn-color-background);\n",
              "}\n",
              "\n",
              "#sk-container-id-1 div.sk-container {\n",
              "  /* jupyter's `normalize.less` sets `[hidden] { display: none; }`\n",
              "     but bootstrap.min.css set `[hidden] { display: none !important; }`\n",
              "     so we also need the `!important` here to be able to override the\n",
              "     default hidden behavior on the sphinx rendered scikit-learn.org.\n",
              "     See: https://github.com/scikit-learn/scikit-learn/issues/21755 */\n",
              "  display: inline-block !important;\n",
              "  position: relative;\n",
              "}\n",
              "\n",
              "#sk-container-id-1 div.sk-text-repr-fallback {\n",
              "  display: none;\n",
              "}\n",
              "\n",
              "div.sk-parallel-item,\n",
              "div.sk-serial,\n",
              "div.sk-item {\n",
              "  /* draw centered vertical line to link estimators */\n",
              "  background-image: linear-gradient(var(--sklearn-color-text-on-default-background), var(--sklearn-color-text-on-default-background));\n",
              "  background-size: 2px 100%;\n",
              "  background-repeat: no-repeat;\n",
              "  background-position: center center;\n",
              "}\n",
              "\n",
              "/* Parallel-specific style estimator block */\n",
              "\n",
              "#sk-container-id-1 div.sk-parallel-item::after {\n",
              "  content: \"\";\n",
              "  width: 100%;\n",
              "  border-bottom: 2px solid var(--sklearn-color-text-on-default-background);\n",
              "  flex-grow: 1;\n",
              "}\n",
              "\n",
              "#sk-container-id-1 div.sk-parallel {\n",
              "  display: flex;\n",
              "  align-items: stretch;\n",
              "  justify-content: center;\n",
              "  background-color: var(--sklearn-color-background);\n",
              "  position: relative;\n",
              "}\n",
              "\n",
              "#sk-container-id-1 div.sk-parallel-item {\n",
              "  display: flex;\n",
              "  flex-direction: column;\n",
              "}\n",
              "\n",
              "#sk-container-id-1 div.sk-parallel-item:first-child::after {\n",
              "  align-self: flex-end;\n",
              "  width: 50%;\n",
              "}\n",
              "\n",
              "#sk-container-id-1 div.sk-parallel-item:last-child::after {\n",
              "  align-self: flex-start;\n",
              "  width: 50%;\n",
              "}\n",
              "\n",
              "#sk-container-id-1 div.sk-parallel-item:only-child::after {\n",
              "  width: 0;\n",
              "}\n",
              "\n",
              "/* Serial-specific style estimator block */\n",
              "\n",
              "#sk-container-id-1 div.sk-serial {\n",
              "  display: flex;\n",
              "  flex-direction: column;\n",
              "  align-items: center;\n",
              "  background-color: var(--sklearn-color-background);\n",
              "  padding-right: 1em;\n",
              "  padding-left: 1em;\n",
              "}\n",
              "\n",
              "\n",
              "/* Toggleable style: style used for estimator/Pipeline/ColumnTransformer box that is\n",
              "clickable and can be expanded/collapsed.\n",
              "- Pipeline and ColumnTransformer use this feature and define the default style\n",
              "- Estimators will overwrite some part of the style using the `sk-estimator` class\n",
              "*/\n",
              "\n",
              "/* Pipeline and ColumnTransformer style (default) */\n",
              "\n",
              "#sk-container-id-1 div.sk-toggleable {\n",
              "  /* Default theme specific background. It is overwritten whether we have a\n",
              "  specific estimator or a Pipeline/ColumnTransformer */\n",
              "  background-color: var(--sklearn-color-background);\n",
              "}\n",
              "\n",
              "/* Toggleable label */\n",
              "#sk-container-id-1 label.sk-toggleable__label {\n",
              "  cursor: pointer;\n",
              "  display: block;\n",
              "  width: 100%;\n",
              "  margin-bottom: 0;\n",
              "  padding: 0.5em;\n",
              "  box-sizing: border-box;\n",
              "  text-align: center;\n",
              "}\n",
              "\n",
              "#sk-container-id-1 label.sk-toggleable__label-arrow:before {\n",
              "  /* Arrow on the left of the label */\n",
              "  content: \"▸\";\n",
              "  float: left;\n",
              "  margin-right: 0.25em;\n",
              "  color: var(--sklearn-color-icon);\n",
              "}\n",
              "\n",
              "#sk-container-id-1 label.sk-toggleable__label-arrow:hover:before {\n",
              "  color: var(--sklearn-color-text);\n",
              "}\n",
              "\n",
              "/* Toggleable content - dropdown */\n",
              "\n",
              "#sk-container-id-1 div.sk-toggleable__content {\n",
              "  max-height: 0;\n",
              "  max-width: 0;\n",
              "  overflow: hidden;\n",
              "  text-align: left;\n",
              "  /* unfitted */\n",
              "  background-color: var(--sklearn-color-unfitted-level-0);\n",
              "}\n",
              "\n",
              "#sk-container-id-1 div.sk-toggleable__content.fitted {\n",
              "  /* fitted */\n",
              "  background-color: var(--sklearn-color-fitted-level-0);\n",
              "}\n",
              "\n",
              "#sk-container-id-1 div.sk-toggleable__content pre {\n",
              "  margin: 0.2em;\n",
              "  border-radius: 0.25em;\n",
              "  color: var(--sklearn-color-text);\n",
              "  /* unfitted */\n",
              "  background-color: var(--sklearn-color-unfitted-level-0);\n",
              "}\n",
              "\n",
              "#sk-container-id-1 div.sk-toggleable__content.fitted pre {\n",
              "  /* unfitted */\n",
              "  background-color: var(--sklearn-color-fitted-level-0);\n",
              "}\n",
              "\n",
              "#sk-container-id-1 input.sk-toggleable__control:checked~div.sk-toggleable__content {\n",
              "  /* Expand drop-down */\n",
              "  max-height: 200px;\n",
              "  max-width: 100%;\n",
              "  overflow: auto;\n",
              "}\n",
              "\n",
              "#sk-container-id-1 input.sk-toggleable__control:checked~label.sk-toggleable__label-arrow:before {\n",
              "  content: \"▾\";\n",
              "}\n",
              "\n",
              "/* Pipeline/ColumnTransformer-specific style */\n",
              "\n",
              "#sk-container-id-1 div.sk-label input.sk-toggleable__control:checked~label.sk-toggleable__label {\n",
              "  color: var(--sklearn-color-text);\n",
              "  background-color: var(--sklearn-color-unfitted-level-2);\n",
              "}\n",
              "\n",
              "#sk-container-id-1 div.sk-label.fitted input.sk-toggleable__control:checked~label.sk-toggleable__label {\n",
              "  background-color: var(--sklearn-color-fitted-level-2);\n",
              "}\n",
              "\n",
              "/* Estimator-specific style */\n",
              "\n",
              "/* Colorize estimator box */\n",
              "#sk-container-id-1 div.sk-estimator input.sk-toggleable__control:checked~label.sk-toggleable__label {\n",
              "  /* unfitted */\n",
              "  background-color: var(--sklearn-color-unfitted-level-2);\n",
              "}\n",
              "\n",
              "#sk-container-id-1 div.sk-estimator.fitted input.sk-toggleable__control:checked~label.sk-toggleable__label {\n",
              "  /* fitted */\n",
              "  background-color: var(--sklearn-color-fitted-level-2);\n",
              "}\n",
              "\n",
              "#sk-container-id-1 div.sk-label label.sk-toggleable__label,\n",
              "#sk-container-id-1 div.sk-label label {\n",
              "  /* The background is the default theme color */\n",
              "  color: var(--sklearn-color-text-on-default-background);\n",
              "}\n",
              "\n",
              "/* On hover, darken the color of the background */\n",
              "#sk-container-id-1 div.sk-label:hover label.sk-toggleable__label {\n",
              "  color: var(--sklearn-color-text);\n",
              "  background-color: var(--sklearn-color-unfitted-level-2);\n",
              "}\n",
              "\n",
              "/* Label box, darken color on hover, fitted */\n",
              "#sk-container-id-1 div.sk-label.fitted:hover label.sk-toggleable__label.fitted {\n",
              "  color: var(--sklearn-color-text);\n",
              "  background-color: var(--sklearn-color-fitted-level-2);\n",
              "}\n",
              "\n",
              "/* Estimator label */\n",
              "\n",
              "#sk-container-id-1 div.sk-label label {\n",
              "  font-family: monospace;\n",
              "  font-weight: bold;\n",
              "  display: inline-block;\n",
              "  line-height: 1.2em;\n",
              "}\n",
              "\n",
              "#sk-container-id-1 div.sk-label-container {\n",
              "  text-align: center;\n",
              "}\n",
              "\n",
              "/* Estimator-specific */\n",
              "#sk-container-id-1 div.sk-estimator {\n",
              "  font-family: monospace;\n",
              "  border: 1px dotted var(--sklearn-color-border-box);\n",
              "  border-radius: 0.25em;\n",
              "  box-sizing: border-box;\n",
              "  margin-bottom: 0.5em;\n",
              "  /* unfitted */\n",
              "  background-color: var(--sklearn-color-unfitted-level-0);\n",
              "}\n",
              "\n",
              "#sk-container-id-1 div.sk-estimator.fitted {\n",
              "  /* fitted */\n",
              "  background-color: var(--sklearn-color-fitted-level-0);\n",
              "}\n",
              "\n",
              "/* on hover */\n",
              "#sk-container-id-1 div.sk-estimator:hover {\n",
              "  /* unfitted */\n",
              "  background-color: var(--sklearn-color-unfitted-level-2);\n",
              "}\n",
              "\n",
              "#sk-container-id-1 div.sk-estimator.fitted:hover {\n",
              "  /* fitted */\n",
              "  background-color: var(--sklearn-color-fitted-level-2);\n",
              "}\n",
              "\n",
              "/* Specification for estimator info (e.g. \"i\" and \"?\") */\n",
              "\n",
              "/* Common style for \"i\" and \"?\" */\n",
              "\n",
              ".sk-estimator-doc-link,\n",
              "a:link.sk-estimator-doc-link,\n",
              "a:visited.sk-estimator-doc-link {\n",
              "  float: right;\n",
              "  font-size: smaller;\n",
              "  line-height: 1em;\n",
              "  font-family: monospace;\n",
              "  background-color: var(--sklearn-color-background);\n",
              "  border-radius: 1em;\n",
              "  height: 1em;\n",
              "  width: 1em;\n",
              "  text-decoration: none !important;\n",
              "  margin-left: 1ex;\n",
              "  /* unfitted */\n",
              "  border: var(--sklearn-color-unfitted-level-1) 1pt solid;\n",
              "  color: var(--sklearn-color-unfitted-level-1);\n",
              "}\n",
              "\n",
              ".sk-estimator-doc-link.fitted,\n",
              "a:link.sk-estimator-doc-link.fitted,\n",
              "a:visited.sk-estimator-doc-link.fitted {\n",
              "  /* fitted */\n",
              "  border: var(--sklearn-color-fitted-level-1) 1pt solid;\n",
              "  color: var(--sklearn-color-fitted-level-1);\n",
              "}\n",
              "\n",
              "/* On hover */\n",
              "div.sk-estimator:hover .sk-estimator-doc-link:hover,\n",
              ".sk-estimator-doc-link:hover,\n",
              "div.sk-label-container:hover .sk-estimator-doc-link:hover,\n",
              ".sk-estimator-doc-link:hover {\n",
              "  /* unfitted */\n",
              "  background-color: var(--sklearn-color-unfitted-level-3);\n",
              "  color: var(--sklearn-color-background);\n",
              "  text-decoration: none;\n",
              "}\n",
              "\n",
              "div.sk-estimator.fitted:hover .sk-estimator-doc-link.fitted:hover,\n",
              ".sk-estimator-doc-link.fitted:hover,\n",
              "div.sk-label-container:hover .sk-estimator-doc-link.fitted:hover,\n",
              ".sk-estimator-doc-link.fitted:hover {\n",
              "  /* fitted */\n",
              "  background-color: var(--sklearn-color-fitted-level-3);\n",
              "  color: var(--sklearn-color-background);\n",
              "  text-decoration: none;\n",
              "}\n",
              "\n",
              "/* Span, style for the box shown on hovering the info icon */\n",
              ".sk-estimator-doc-link span {\n",
              "  display: none;\n",
              "  z-index: 9999;\n",
              "  position: relative;\n",
              "  font-weight: normal;\n",
              "  right: .2ex;\n",
              "  padding: .5ex;\n",
              "  margin: .5ex;\n",
              "  width: min-content;\n",
              "  min-width: 20ex;\n",
              "  max-width: 50ex;\n",
              "  color: var(--sklearn-color-text);\n",
              "  box-shadow: 2pt 2pt 4pt #999;\n",
              "  /* unfitted */\n",
              "  background: var(--sklearn-color-unfitted-level-0);\n",
              "  border: .5pt solid var(--sklearn-color-unfitted-level-3);\n",
              "}\n",
              "\n",
              ".sk-estimator-doc-link.fitted span {\n",
              "  /* fitted */\n",
              "  background: var(--sklearn-color-fitted-level-0);\n",
              "  border: var(--sklearn-color-fitted-level-3);\n",
              "}\n",
              "\n",
              ".sk-estimator-doc-link:hover span {\n",
              "  display: block;\n",
              "}\n",
              "\n",
              "/* \"?\"-specific style due to the `<a>` HTML tag */\n",
              "\n",
              "#sk-container-id-1 a.estimator_doc_link {\n",
              "  float: right;\n",
              "  font-size: 1rem;\n",
              "  line-height: 1em;\n",
              "  font-family: monospace;\n",
              "  background-color: var(--sklearn-color-background);\n",
              "  border-radius: 1rem;\n",
              "  height: 1rem;\n",
              "  width: 1rem;\n",
              "  text-decoration: none;\n",
              "  /* unfitted */\n",
              "  color: var(--sklearn-color-unfitted-level-1);\n",
              "  border: var(--sklearn-color-unfitted-level-1) 1pt solid;\n",
              "}\n",
              "\n",
              "#sk-container-id-1 a.estimator_doc_link.fitted {\n",
              "  /* fitted */\n",
              "  border: var(--sklearn-color-fitted-level-1) 1pt solid;\n",
              "  color: var(--sklearn-color-fitted-level-1);\n",
              "}\n",
              "\n",
              "/* On hover */\n",
              "#sk-container-id-1 a.estimator_doc_link:hover {\n",
              "  /* unfitted */\n",
              "  background-color: var(--sklearn-color-unfitted-level-3);\n",
              "  color: var(--sklearn-color-background);\n",
              "  text-decoration: none;\n",
              "}\n",
              "\n",
              "#sk-container-id-1 a.estimator_doc_link.fitted:hover {\n",
              "  /* fitted */\n",
              "  background-color: var(--sklearn-color-fitted-level-3);\n",
              "}\n",
              "</style><div id=\"sk-container-id-1\" class=\"sk-top-container\"><div class=\"sk-text-repr-fallback\"><pre>LogisticRegression(max_iter=1000, random_state=42)</pre><b>In a Jupyter environment, please rerun this cell to show the HTML representation or trust the notebook. <br />On GitHub, the HTML representation is unable to render, please try loading this page with nbviewer.org.</b></div><div class=\"sk-container\" hidden><div class=\"sk-item\"><div class=\"sk-estimator fitted sk-toggleable\"><input class=\"sk-toggleable__control sk-hidden--visually\" id=\"sk-estimator-id-1\" type=\"checkbox\" checked><label for=\"sk-estimator-id-1\" class=\"sk-toggleable__label fitted sk-toggleable__label-arrow fitted\">&nbsp;&nbsp;LogisticRegression<a class=\"sk-estimator-doc-link fitted\" rel=\"noreferrer\" target=\"_blank\" href=\"https://scikit-learn.org/1.5/modules/generated/sklearn.linear_model.LogisticRegression.html\">?<span>Documentation for LogisticRegression</span></a><span class=\"sk-estimator-doc-link fitted\">i<span>Fitted</span></span></label><div class=\"sk-toggleable__content fitted\"><pre>LogisticRegression(max_iter=1000, random_state=42)</pre></div> </div></div></div></div>"
            ]
          },
          "metadata": {},
          "execution_count": 55
        }
      ]
    },
    {
      "cell_type": "code",
      "source": [
        "y_val_preds = logistic_model.predict(X_val)\n",
        "print(classification_report(y_val, y_val_preds))\n"
      ],
      "metadata": {
        "colab": {
          "base_uri": "https://localhost:8080/"
        },
        "id": "IHzVTas27Mmw",
        "outputId": "025b2243-ef0d-47f5-fd08-971114095d69"
      },
      "execution_count": null,
      "outputs": [
        {
          "output_type": "stream",
          "name": "stdout",
          "text": [
            "              precision    recall  f1-score   support\n",
            "\n",
            "           0       0.98      0.95      0.96       470\n",
            "           1       0.95      0.97      0.96       428\n",
            "\n",
            "    accuracy                           0.96       898\n",
            "   macro avg       0.96      0.96      0.96       898\n",
            "weighted avg       0.96      0.96      0.96       898\n",
            "\n"
          ]
        }
      ]
    },
    {
      "cell_type": "code",
      "source": [
        "y_test_preds = logistic_model.predict(X_test)\n",
        "print(classification_report(y_test, y_test_preds))\n"
      ],
      "metadata": {
        "colab": {
          "base_uri": "https://localhost:8080/"
        },
        "id": "TJtooSaO7THx",
        "outputId": "25428d2c-4fe5-4a1e-83f6-234c7acf3809"
      },
      "execution_count": null,
      "outputs": [
        {
          "output_type": "stream",
          "name": "stdout",
          "text": [
            "              precision    recall  f1-score   support\n",
            "\n",
            "           0       0.96      0.97      0.96       470\n",
            "           1       0.96      0.96      0.96       428\n",
            "\n",
            "    accuracy                           0.96       898\n",
            "   macro avg       0.96      0.96      0.96       898\n",
            "weighted avg       0.96      0.96      0.96       898\n",
            "\n"
          ]
        }
      ]
    },
    {
      "cell_type": "markdown",
      "source": [
        "New dataset"
      ],
      "metadata": {
        "id": "e3TeAZOV9k4S"
      }
    },
    {
      "cell_type": "code",
      "source": [
        "df_new = pd.read_csv(\"train.csv\")\n",
        "df_new = df_new.dropna(subset=['title', 'text', 'label'])"
      ],
      "metadata": {
        "id": "-bDjhvy39t1k"
      },
      "execution_count": null,
      "outputs": []
    },
    {
      "cell_type": "code",
      "source": [
        "df_new"
      ],
      "metadata": {
        "colab": {
          "base_uri": "https://localhost:8080/",
          "height": 615
        },
        "id": "hctDdiWP-dgV",
        "outputId": "0f78a16c-32b8-4d53-d456-69a64be48ca9"
      },
      "execution_count": null,
      "outputs": [
        {
          "output_type": "execute_result",
          "data": {
            "text/plain": [
              "          id                                              title  \\\n",
              "0          0  House Dem Aide: We Didn’t Even See Comey’s Let...   \n",
              "1          1  FLYNN: Hillary Clinton, Big Woman on Campus - ...   \n",
              "2          2                  Why the Truth Might Get You Fired   \n",
              "3          3  15 Civilians Killed In Single US Airstrike Hav...   \n",
              "4          4  Iranian woman jailed for fictional unpublished...   \n",
              "...      ...                                                ...   \n",
              "20795  20795  Rapper T.I.: Trump a ’Poster Child For White S...   \n",
              "20796  20796  N.F.L. Playoffs: Schedule, Matchups and Odds -...   \n",
              "20797  20797  Macy’s Is Said to Receive Takeover Approach by...   \n",
              "20798  20798  NATO, Russia To Hold Parallel Exercises In Bal...   \n",
              "20799  20799                          What Keeps the F-35 Alive   \n",
              "\n",
              "                                          author  \\\n",
              "0                                  Darrell Lucus   \n",
              "1                                Daniel J. Flynn   \n",
              "2                             Consortiumnews.com   \n",
              "3                                Jessica Purkiss   \n",
              "4                                 Howard Portnoy   \n",
              "...                                          ...   \n",
              "20795                              Jerome Hudson   \n",
              "20796                           Benjamin Hoffman   \n",
              "20797  Michael J. de la Merced and Rachel Abrams   \n",
              "20798                                Alex Ansary   \n",
              "20799                              David Swanson   \n",
              "\n",
              "                                                    text  label  \n",
              "0      House Dem Aide: We Didn’t Even See Comey’s Let...      1  \n",
              "1      Ever get the feeling your life circles the rou...      0  \n",
              "2      Why the Truth Might Get You Fired October 29, ...      1  \n",
              "3      Videos 15 Civilians Killed In Single US Airstr...      1  \n",
              "4      Print \\nAn Iranian woman has been sentenced to...      1  \n",
              "...                                                  ...    ...  \n",
              "20795  Rapper T. I. unloaded on black celebrities who...      0  \n",
              "20796  When the Green Bay Packers lost to the Washing...      0  \n",
              "20797  The Macy’s of today grew from the union of sev...      0  \n",
              "20798  NATO, Russia To Hold Parallel Exercises In Bal...      1  \n",
              "20799    David Swanson is an author, activist, journa...      1  \n",
              "\n",
              "[20203 rows x 5 columns]"
            ],
            "text/html": [
              "\n",
              "  <div id=\"df-dae2ecf9-243d-44ef-9069-a29ab4695aa1\" class=\"colab-df-container\">\n",
              "    <div>\n",
              "<style scoped>\n",
              "    .dataframe tbody tr th:only-of-type {\n",
              "        vertical-align: middle;\n",
              "    }\n",
              "\n",
              "    .dataframe tbody tr th {\n",
              "        vertical-align: top;\n",
              "    }\n",
              "\n",
              "    .dataframe thead th {\n",
              "        text-align: right;\n",
              "    }\n",
              "</style>\n",
              "<table border=\"1\" class=\"dataframe\">\n",
              "  <thead>\n",
              "    <tr style=\"text-align: right;\">\n",
              "      <th></th>\n",
              "      <th>id</th>\n",
              "      <th>title</th>\n",
              "      <th>author</th>\n",
              "      <th>text</th>\n",
              "      <th>label</th>\n",
              "    </tr>\n",
              "  </thead>\n",
              "  <tbody>\n",
              "    <tr>\n",
              "      <th>0</th>\n",
              "      <td>0</td>\n",
              "      <td>House Dem Aide: We Didn’t Even See Comey’s Let...</td>\n",
              "      <td>Darrell Lucus</td>\n",
              "      <td>House Dem Aide: We Didn’t Even See Comey’s Let...</td>\n",
              "      <td>1</td>\n",
              "    </tr>\n",
              "    <tr>\n",
              "      <th>1</th>\n",
              "      <td>1</td>\n",
              "      <td>FLYNN: Hillary Clinton, Big Woman on Campus - ...</td>\n",
              "      <td>Daniel J. Flynn</td>\n",
              "      <td>Ever get the feeling your life circles the rou...</td>\n",
              "      <td>0</td>\n",
              "    </tr>\n",
              "    <tr>\n",
              "      <th>2</th>\n",
              "      <td>2</td>\n",
              "      <td>Why the Truth Might Get You Fired</td>\n",
              "      <td>Consortiumnews.com</td>\n",
              "      <td>Why the Truth Might Get You Fired October 29, ...</td>\n",
              "      <td>1</td>\n",
              "    </tr>\n",
              "    <tr>\n",
              "      <th>3</th>\n",
              "      <td>3</td>\n",
              "      <td>15 Civilians Killed In Single US Airstrike Hav...</td>\n",
              "      <td>Jessica Purkiss</td>\n",
              "      <td>Videos 15 Civilians Killed In Single US Airstr...</td>\n",
              "      <td>1</td>\n",
              "    </tr>\n",
              "    <tr>\n",
              "      <th>4</th>\n",
              "      <td>4</td>\n",
              "      <td>Iranian woman jailed for fictional unpublished...</td>\n",
              "      <td>Howard Portnoy</td>\n",
              "      <td>Print \\nAn Iranian woman has been sentenced to...</td>\n",
              "      <td>1</td>\n",
              "    </tr>\n",
              "    <tr>\n",
              "      <th>...</th>\n",
              "      <td>...</td>\n",
              "      <td>...</td>\n",
              "      <td>...</td>\n",
              "      <td>...</td>\n",
              "      <td>...</td>\n",
              "    </tr>\n",
              "    <tr>\n",
              "      <th>20795</th>\n",
              "      <td>20795</td>\n",
              "      <td>Rapper T.I.: Trump a ’Poster Child For White S...</td>\n",
              "      <td>Jerome Hudson</td>\n",
              "      <td>Rapper T. I. unloaded on black celebrities who...</td>\n",
              "      <td>0</td>\n",
              "    </tr>\n",
              "    <tr>\n",
              "      <th>20796</th>\n",
              "      <td>20796</td>\n",
              "      <td>N.F.L. Playoffs: Schedule, Matchups and Odds -...</td>\n",
              "      <td>Benjamin Hoffman</td>\n",
              "      <td>When the Green Bay Packers lost to the Washing...</td>\n",
              "      <td>0</td>\n",
              "    </tr>\n",
              "    <tr>\n",
              "      <th>20797</th>\n",
              "      <td>20797</td>\n",
              "      <td>Macy’s Is Said to Receive Takeover Approach by...</td>\n",
              "      <td>Michael J. de la Merced and Rachel Abrams</td>\n",
              "      <td>The Macy’s of today grew from the union of sev...</td>\n",
              "      <td>0</td>\n",
              "    </tr>\n",
              "    <tr>\n",
              "      <th>20798</th>\n",
              "      <td>20798</td>\n",
              "      <td>NATO, Russia To Hold Parallel Exercises In Bal...</td>\n",
              "      <td>Alex Ansary</td>\n",
              "      <td>NATO, Russia To Hold Parallel Exercises In Bal...</td>\n",
              "      <td>1</td>\n",
              "    </tr>\n",
              "    <tr>\n",
              "      <th>20799</th>\n",
              "      <td>20799</td>\n",
              "      <td>What Keeps the F-35 Alive</td>\n",
              "      <td>David Swanson</td>\n",
              "      <td>David Swanson is an author, activist, journa...</td>\n",
              "      <td>1</td>\n",
              "    </tr>\n",
              "  </tbody>\n",
              "</table>\n",
              "<p>20203 rows × 5 columns</p>\n",
              "</div>\n",
              "    <div class=\"colab-df-buttons\">\n",
              "\n",
              "  <div class=\"colab-df-container\">\n",
              "    <button class=\"colab-df-convert\" onclick=\"convertToInteractive('df-dae2ecf9-243d-44ef-9069-a29ab4695aa1')\"\n",
              "            title=\"Convert this dataframe to an interactive table.\"\n",
              "            style=\"display:none;\">\n",
              "\n",
              "  <svg xmlns=\"http://www.w3.org/2000/svg\" height=\"24px\" viewBox=\"0 -960 960 960\">\n",
              "    <path d=\"M120-120v-720h720v720H120Zm60-500h600v-160H180v160Zm220 220h160v-160H400v160Zm0 220h160v-160H400v160ZM180-400h160v-160H180v160Zm440 0h160v-160H620v160ZM180-180h160v-160H180v160Zm440 0h160v-160H620v160Z\"/>\n",
              "  </svg>\n",
              "    </button>\n",
              "\n",
              "  <style>\n",
              "    .colab-df-container {\n",
              "      display:flex;\n",
              "      gap: 12px;\n",
              "    }\n",
              "\n",
              "    .colab-df-convert {\n",
              "      background-color: #E8F0FE;\n",
              "      border: none;\n",
              "      border-radius: 50%;\n",
              "      cursor: pointer;\n",
              "      display: none;\n",
              "      fill: #1967D2;\n",
              "      height: 32px;\n",
              "      padding: 0 0 0 0;\n",
              "      width: 32px;\n",
              "    }\n",
              "\n",
              "    .colab-df-convert:hover {\n",
              "      background-color: #E2EBFA;\n",
              "      box-shadow: 0px 1px 2px rgba(60, 64, 67, 0.3), 0px 1px 3px 1px rgba(60, 64, 67, 0.15);\n",
              "      fill: #174EA6;\n",
              "    }\n",
              "\n",
              "    .colab-df-buttons div {\n",
              "      margin-bottom: 4px;\n",
              "    }\n",
              "\n",
              "    [theme=dark] .colab-df-convert {\n",
              "      background-color: #3B4455;\n",
              "      fill: #D2E3FC;\n",
              "    }\n",
              "\n",
              "    [theme=dark] .colab-df-convert:hover {\n",
              "      background-color: #434B5C;\n",
              "      box-shadow: 0px 1px 3px 1px rgba(0, 0, 0, 0.15);\n",
              "      filter: drop-shadow(0px 1px 2px rgba(0, 0, 0, 0.3));\n",
              "      fill: #FFFFFF;\n",
              "    }\n",
              "  </style>\n",
              "\n",
              "    <script>\n",
              "      const buttonEl =\n",
              "        document.querySelector('#df-dae2ecf9-243d-44ef-9069-a29ab4695aa1 button.colab-df-convert');\n",
              "      buttonEl.style.display =\n",
              "        google.colab.kernel.accessAllowed ? 'block' : 'none';\n",
              "\n",
              "      async function convertToInteractive(key) {\n",
              "        const element = document.querySelector('#df-dae2ecf9-243d-44ef-9069-a29ab4695aa1');\n",
              "        const dataTable =\n",
              "          await google.colab.kernel.invokeFunction('convertToInteractive',\n",
              "                                                    [key], {});\n",
              "        if (!dataTable) return;\n",
              "\n",
              "        const docLinkHtml = 'Like what you see? Visit the ' +\n",
              "          '<a target=\"_blank\" href=https://colab.research.google.com/notebooks/data_table.ipynb>data table notebook</a>'\n",
              "          + ' to learn more about interactive tables.';\n",
              "        element.innerHTML = '';\n",
              "        dataTable['output_type'] = 'display_data';\n",
              "        await google.colab.output.renderOutput(dataTable, element);\n",
              "        const docLink = document.createElement('div');\n",
              "        docLink.innerHTML = docLinkHtml;\n",
              "        element.appendChild(docLink);\n",
              "      }\n",
              "    </script>\n",
              "  </div>\n",
              "\n",
              "\n",
              "<div id=\"df-cf06cba3-6bd7-482e-92c5-b9ded8f9730a\">\n",
              "  <button class=\"colab-df-quickchart\" onclick=\"quickchart('df-cf06cba3-6bd7-482e-92c5-b9ded8f9730a')\"\n",
              "            title=\"Suggest charts\"\n",
              "            style=\"display:none;\">\n",
              "\n",
              "<svg xmlns=\"http://www.w3.org/2000/svg\" height=\"24px\"viewBox=\"0 0 24 24\"\n",
              "     width=\"24px\">\n",
              "    <g>\n",
              "        <path d=\"M19 3H5c-1.1 0-2 .9-2 2v14c0 1.1.9 2 2 2h14c1.1 0 2-.9 2-2V5c0-1.1-.9-2-2-2zM9 17H7v-7h2v7zm4 0h-2V7h2v10zm4 0h-2v-4h2v4z\"/>\n",
              "    </g>\n",
              "</svg>\n",
              "  </button>\n",
              "\n",
              "<style>\n",
              "  .colab-df-quickchart {\n",
              "      --bg-color: #E8F0FE;\n",
              "      --fill-color: #1967D2;\n",
              "      --hover-bg-color: #E2EBFA;\n",
              "      --hover-fill-color: #174EA6;\n",
              "      --disabled-fill-color: #AAA;\n",
              "      --disabled-bg-color: #DDD;\n",
              "  }\n",
              "\n",
              "  [theme=dark] .colab-df-quickchart {\n",
              "      --bg-color: #3B4455;\n",
              "      --fill-color: #D2E3FC;\n",
              "      --hover-bg-color: #434B5C;\n",
              "      --hover-fill-color: #FFFFFF;\n",
              "      --disabled-bg-color: #3B4455;\n",
              "      --disabled-fill-color: #666;\n",
              "  }\n",
              "\n",
              "  .colab-df-quickchart {\n",
              "    background-color: var(--bg-color);\n",
              "    border: none;\n",
              "    border-radius: 50%;\n",
              "    cursor: pointer;\n",
              "    display: none;\n",
              "    fill: var(--fill-color);\n",
              "    height: 32px;\n",
              "    padding: 0;\n",
              "    width: 32px;\n",
              "  }\n",
              "\n",
              "  .colab-df-quickchart:hover {\n",
              "    background-color: var(--hover-bg-color);\n",
              "    box-shadow: 0 1px 2px rgba(60, 64, 67, 0.3), 0 1px 3px 1px rgba(60, 64, 67, 0.15);\n",
              "    fill: var(--button-hover-fill-color);\n",
              "  }\n",
              "\n",
              "  .colab-df-quickchart-complete:disabled,\n",
              "  .colab-df-quickchart-complete:disabled:hover {\n",
              "    background-color: var(--disabled-bg-color);\n",
              "    fill: var(--disabled-fill-color);\n",
              "    box-shadow: none;\n",
              "  }\n",
              "\n",
              "  .colab-df-spinner {\n",
              "    border: 2px solid var(--fill-color);\n",
              "    border-color: transparent;\n",
              "    border-bottom-color: var(--fill-color);\n",
              "    animation:\n",
              "      spin 1s steps(1) infinite;\n",
              "  }\n",
              "\n",
              "  @keyframes spin {\n",
              "    0% {\n",
              "      border-color: transparent;\n",
              "      border-bottom-color: var(--fill-color);\n",
              "      border-left-color: var(--fill-color);\n",
              "    }\n",
              "    20% {\n",
              "      border-color: transparent;\n",
              "      border-left-color: var(--fill-color);\n",
              "      border-top-color: var(--fill-color);\n",
              "    }\n",
              "    30% {\n",
              "      border-color: transparent;\n",
              "      border-left-color: var(--fill-color);\n",
              "      border-top-color: var(--fill-color);\n",
              "      border-right-color: var(--fill-color);\n",
              "    }\n",
              "    40% {\n",
              "      border-color: transparent;\n",
              "      border-right-color: var(--fill-color);\n",
              "      border-top-color: var(--fill-color);\n",
              "    }\n",
              "    60% {\n",
              "      border-color: transparent;\n",
              "      border-right-color: var(--fill-color);\n",
              "    }\n",
              "    80% {\n",
              "      border-color: transparent;\n",
              "      border-right-color: var(--fill-color);\n",
              "      border-bottom-color: var(--fill-color);\n",
              "    }\n",
              "    90% {\n",
              "      border-color: transparent;\n",
              "      border-bottom-color: var(--fill-color);\n",
              "    }\n",
              "  }\n",
              "</style>\n",
              "\n",
              "  <script>\n",
              "    async function quickchart(key) {\n",
              "      const quickchartButtonEl =\n",
              "        document.querySelector('#' + key + ' button');\n",
              "      quickchartButtonEl.disabled = true;  // To prevent multiple clicks.\n",
              "      quickchartButtonEl.classList.add('colab-df-spinner');\n",
              "      try {\n",
              "        const charts = await google.colab.kernel.invokeFunction(\n",
              "            'suggestCharts', [key], {});\n",
              "      } catch (error) {\n",
              "        console.error('Error during call to suggestCharts:', error);\n",
              "      }\n",
              "      quickchartButtonEl.classList.remove('colab-df-spinner');\n",
              "      quickchartButtonEl.classList.add('colab-df-quickchart-complete');\n",
              "    }\n",
              "    (() => {\n",
              "      let quickchartButtonEl =\n",
              "        document.querySelector('#df-cf06cba3-6bd7-482e-92c5-b9ded8f9730a button');\n",
              "      quickchartButtonEl.style.display =\n",
              "        google.colab.kernel.accessAllowed ? 'block' : 'none';\n",
              "    })();\n",
              "  </script>\n",
              "</div>\n",
              "\n",
              "  <div id=\"id_8b77ae32-1ec7-4c88-8fa3-8b55ea1502ac\">\n",
              "    <style>\n",
              "      .colab-df-generate {\n",
              "        background-color: #E8F0FE;\n",
              "        border: none;\n",
              "        border-radius: 50%;\n",
              "        cursor: pointer;\n",
              "        display: none;\n",
              "        fill: #1967D2;\n",
              "        height: 32px;\n",
              "        padding: 0 0 0 0;\n",
              "        width: 32px;\n",
              "      }\n",
              "\n",
              "      .colab-df-generate:hover {\n",
              "        background-color: #E2EBFA;\n",
              "        box-shadow: 0px 1px 2px rgba(60, 64, 67, 0.3), 0px 1px 3px 1px rgba(60, 64, 67, 0.15);\n",
              "        fill: #174EA6;\n",
              "      }\n",
              "\n",
              "      [theme=dark] .colab-df-generate {\n",
              "        background-color: #3B4455;\n",
              "        fill: #D2E3FC;\n",
              "      }\n",
              "\n",
              "      [theme=dark] .colab-df-generate:hover {\n",
              "        background-color: #434B5C;\n",
              "        box-shadow: 0px 1px 3px 1px rgba(0, 0, 0, 0.15);\n",
              "        filter: drop-shadow(0px 1px 2px rgba(0, 0, 0, 0.3));\n",
              "        fill: #FFFFFF;\n",
              "      }\n",
              "    </style>\n",
              "    <button class=\"colab-df-generate\" onclick=\"generateWithVariable('df_new')\"\n",
              "            title=\"Generate code using this dataframe.\"\n",
              "            style=\"display:none;\">\n",
              "\n",
              "  <svg xmlns=\"http://www.w3.org/2000/svg\" height=\"24px\"viewBox=\"0 0 24 24\"\n",
              "       width=\"24px\">\n",
              "    <path d=\"M7,19H8.4L18.45,9,17,7.55,7,17.6ZM5,21V16.75L18.45,3.32a2,2,0,0,1,2.83,0l1.4,1.43a1.91,1.91,0,0,1,.58,1.4,1.91,1.91,0,0,1-.58,1.4L9.25,21ZM18.45,9,17,7.55Zm-12,3A5.31,5.31,0,0,0,4.9,8.1,5.31,5.31,0,0,0,1,6.5,5.31,5.31,0,0,0,4.9,4.9,5.31,5.31,0,0,0,6.5,1,5.31,5.31,0,0,0,8.1,4.9,5.31,5.31,0,0,0,12,6.5,5.46,5.46,0,0,0,6.5,12Z\"/>\n",
              "  </svg>\n",
              "    </button>\n",
              "    <script>\n",
              "      (() => {\n",
              "      const buttonEl =\n",
              "        document.querySelector('#id_8b77ae32-1ec7-4c88-8fa3-8b55ea1502ac button.colab-df-generate');\n",
              "      buttonEl.style.display =\n",
              "        google.colab.kernel.accessAllowed ? 'block' : 'none';\n",
              "\n",
              "      buttonEl.onclick = () => {\n",
              "        google.colab.notebook.generateWithVariable('df_new');\n",
              "      }\n",
              "      })();\n",
              "    </script>\n",
              "  </div>\n",
              "\n",
              "    </div>\n",
              "  </div>\n"
            ],
            "application/vnd.google.colaboratory.intrinsic+json": {
              "type": "dataframe",
              "variable_name": "df_new",
              "summary": "{\n  \"name\": \"df_new\",\n  \"rows\": 20203,\n  \"fields\": [\n    {\n      \"column\": \"id\",\n      \"properties\": {\n        \"dtype\": \"number\",\n        \"std\": 6001,\n        \"min\": 0,\n        \"max\": 20799,\n        \"num_unique_values\": 20203,\n        \"samples\": [\n          5270,\n          11656,\n          3282\n        ],\n        \"semantic_type\": \"\",\n        \"description\": \"\"\n      }\n    },\n    {\n      \"column\": \"title\",\n      \"properties\": {\n        \"dtype\": \"string\",\n        \"num_unique_values\": 19764,\n        \"samples\": [\n          \"Colin Powell (Pronounced \\u201cColon Pao\\u201d) Endorses Hillary Clinton\",\n          \"Comment on BREAKING: Video from INSIDE Lavoy Finicum\\u2019s Truck Clearly Shows What Happened in Oregon by AUTUMN\",\n          \"Chance the Rapper Donates $1 Million to Chicago\\u2019s Public Schools - The New York Times\"\n        ],\n        \"semantic_type\": \"\",\n        \"description\": \"\"\n      }\n    },\n    {\n      \"column\": \"author\",\n      \"properties\": {\n        \"dtype\": \"category\",\n        \"num_unique_values\": 3838,\n        \"samples\": [\n          \"Ellen Brodsky\",\n          \"Helene Cooper and David E. Sanger\",\n          \"Richard Fausset, Alan Blinder and John Eligon\"\n        ],\n        \"semantic_type\": \"\",\n        \"description\": \"\"\n      }\n    },\n    {\n      \"column\": \"text\",\n      \"properties\": {\n        \"dtype\": \"string\",\n        \"num_unique_values\": 19868,\n        \"samples\": [\n          \"WikiLeaks continues to be a treasure trove of info about the behind-the-scenes rigging of what is turning out to be the most infamous presidential election in American history. \\nRemember the first debate between Hillary Clinton and Donald Trump and the conspiracy surrounding \\u201cpodiumgate\\u201d ? \\nHillary required a specially built podium under the pretext that she didn\\u2019t want to appear shorter than Trump. \\nAfter the debate was over, however, a sneaky \\u201ccleaner man\\u201d was caught on tape approaching Hillary\\u2019s podium multiple times, removing various items and looking as shady as possible while doing it. What could also clearly be seen was what appeared to be a lit screen dimming specifically in her podium and not in Trump\\u2019s just after the debate officially ended. \\nThis led to lots of speculation on whether or not Hillary cheated during the first debate against Trump and other debates as well, having her comments fed to her. \\nWell, if the Wikileaks Podesta emails are any indication, it\\u2019s very possible. Why? \\nBecause apparently Hillary can\\u2019t give long speeches without a podium. \\nIn fact, these emails (and this isn\\u2019t even all of them, but enough for you to get the picture) prove her team is well aware of the fact that everything has to be kept \\u201cshort and sweet\\u201d unless Hillary has a podium. \\nSo how are we supposed to believe she was able to speak at the 90-minutes debates without prepared notes being fed to her somehow? \\nEspecially that final debate where she appeared to be reading more than writing, looking down all the time at some sort of lit screen embedded in the podium as pointed out in other debates, as shown in the video above. Piper writes for The Daily Sheeple . There\\u2019s a lot of B.S. out there. Someone has to write about it. Don't forget to follow the D.C. Clothesline on Facebook and Twitter. PLEASE help spread the word by sharing our articles on your favorite social networks. Share this:\",\n          \"WASHINGTON  \\u2014   On a late summer day in 1963, 200, 000 Americans made the Washington Monument the compass needle for a new direction in history, up and forward, when they gathered at its base, then marched a mile or so on to hear the Rev. Dr. Martin Luther King Jr. preach  \\u2014   sing, really  \\u2014   a sermon on racism and a dream of change. On an early autumn day this Saturday, just yards from the monument, the compass itself will, symbolically speaking, become fully visible, when the National Museum of African American History and Culture opens to the public. To paraphrase the preacher: It\\u2019s here at last, here at last. And it\\u2019s more than just impressive. It\\u2019s a   engrossing,    . Rising in three low,   tiers, the building occupies what had been the last undeveloped museum site on the National Mall. Its design, by the   British architect David Adjaye, is unlike any of the others. They are of white or buff stone or concrete this one, covered in metal panels, is a deep  . The other museums reflect light this one absorbs it, making it look, despite its size, discreet and recessive, about silhouette rather than bulk. That may not have been the intended effect. The initial plan was to cast the facade panels, perforated with decorated patterns, in bronze. When that proved too costly, painted aluminum was substituted, with a loss of reflective sheen. In midday sunlight, the building looks rusted and a little shaggy, like a giant magnet bristling with metal filings. The reward comes in repeated viewing. Most Mall museums are squat blocks, rooted in   tradition: Timeless grandeur and stability are their messages, and you barely look at them twice. The new museum seems to change texture at every encounter, giving it visual intrigue and also implying a more contemporary understanding of culture\\u2019s fleet, contingent,    \\u2019  dynamics. Importantly, it also carries significant   references. The   silhouette, and a deep   porch over the   side, draw on features in African architecture and sculpture. (The museum\\u2019s insistence that the building is in the form of a Yoruba crown is   however. The motif is more likely derived from the stepped capitals on figurative veranda posts carved for Yoruba courts.) The filigree of the facade panels was inspired by   grillwork in South Carolina and Louisiana, which had West African roots. (A piece in the inaugural collection display, of a tracery cross made by the great   Southern ironworker Solomon Williams to mark the grave of his wife, Laide, suggests how gorgeous such work could be.) All these references are subtle, glancing, maybe strategically vague. Race is one of the things that kept plans for this partly   museum stalled in Congress for decades. Part of the Smithsonian Institution, the museum cost $540 million, with $270 million raised privately and the rest from federal funds. Some politicians claimed it would draw far too narrow and marginal an audience to earn its keep. Senator Jesse Helms of North Carolina, a staunch nonsupporter, warned that approving an   museum would only open floodgates to demands by other groups. Given the resistance, it\\u2019s easy to see why the museum\\u2019s founding director, Lonnie G. Bunch III, has been at pains to emphasize the Americanness of the museum. The emphasis is clear on the institution\\u2019s website (nmaahc. org) where, of four \\u201cpillars upon which the NMAAHC stands,\\u201d one is the mandate \\u201cto explore what it means to be an American and share how American values like resiliency, optimism, and spirituality are reflected in African American history and culture. \\u201d This is a plausible statement. But it\\u2019s also too close to being a piece of    . And taken as such, it rings hollow to many at a time when violence is hammering  . And it is to the credit of Mr. Bunch and his curators that, despite diplomatic words, they have made   history of that violence clear in the opening display of some 3, 500 objects, selected from the 40, 000 in the museum\\u2019s collection. The extremely complex narrative, with uplift and tragedy seemingly on a fixed collision course, spreads over five floors of galleries, three below ground, two above, with public spaces  \\u2014   a vast reception area an atrium with a theater and cafe  \\u2014   in between. The   \\u201cHistory\\u201d section underground  \\u2014   on broad themes of slavery, segregation and the pivotal year 1968  \\u2014   is reached by elevator or a spiraling ramp, and holds some of the oldest and most disturbing material. The story starts with slavery in Africa (though its long   presence there is brushed by quickly) and then in the Americas. The most   relic of it here is an intact 1800s slave cabin from a plantation on Edisto Island in South Carolina but the most piercing one is a lockable iron   so small that it could have fit only a child. Words speak loudly, too. A handwritten receipt confirms the sale of a teenage girl and \\u201cher future issue. \\u201d A   modern sculpture of Thomas Jefferson stands before a wall listing some of the slaves he owned, most identified by one name: Jenny, Orange, Tomo, Phoebe, Unknown. The section alternates its presentation of slavery with more   subjects, like the role played by black patriots in the American Revolution. This pattern, which is probably the only way to go to create an impression of telling a balanced story  \\u2014   it\\u2019s certainly the standard museum way  \\u2014   continues throughout the \\u201cHistory\\u201d section, with often powerfully jarring results. Its second level, \\u201cThe Segregation Era,\\u201d gives valuable attention to the topic of black entrepreneurship, about which many Americans probably know little. But what stops you in your tracks is the sight of a white satin Ku Klux Klan hood, shimmery and soiled, sitting in a case with photographs of lynchings on display nearby. It\\u2019s great that the museum mixes everything together: It means you can\\u2019t just select a comfortable version of history. At the same time, you\\u2019re given some warnings. The museum frames certain things  \\u2014   lynching photographs, for example  \\u2014   within red lines, alerting viewers to their emotionally loaded content. The potentially most upsetting object of all, the windowed coffin that once held the mutilated body of Emmett Till, the    murdered in Mississippi in 1955 for supposedly flirting with a white woman, is isolated in a   room of its own. Another space, empty of objects, has been set aside as a kind of viewer recovery station, and the museum has a grief counselor on call. (On my final preview visit recently, neither space was finished and viewable, and the history section overall remained a work in progress.) On the third and uppermost history level, called \\u201c1968 to Today,\\u201d the atmosphere changes, feels less funereal. Maybe this is because we\\u2019re now closer to our own time, and personalities and events are more familiar. Or because the installation is suddenly buzzy with multimedia information. History starts moving at a breathless but measurable clip, hero by hero  \\u2014   Angela Davis, Barbara Jordan, Shirley Chisholm, Anita Hill  \\u2014   and movement by movement, from Black Is Beautiful, to Black Panthers, to Black Lives Matter. Politics and pop culture merge they did in earlier material too, but here you can really see it happening: a mural for Resurrection City, created by protesters occupying the Mall during the 1968 Poor People\\u2019s Campaign, is on view around the corner from a reconstructed \\u201cOprah\\u201d set. (Ms. Winfrey contributed $21 million to the museum the atrium theater is named for her.) The effect is confusing, but history is confusing. If it isn\\u2019t, it\\u2019s not history it\\u2019s fiction, as in the case of the narrative account of Modernism propagated by most of our art museums. Mr. Bunch and his curators understand this and they keep the story complicated, lobbing more topics and words in our direction than you can possibly hope to catch, never mind absorb, in one visit. (Even so, important things are all but left out. Maybe I missed something, but the subject of AIDS, which has taken so many   lives, receives scant mention, and identity struggles surrounding sexual orientation and gender are played down.) The buzz intensifies further in the \\u201cCommunity\\u201d galleries upstairs on the third floor, which include large sections devoted to the black presence in the military and in sports. The Tuskegee Airmen rightly get attention one of their World War II biplanes is prominently displayed elsewhere on the premises. At the same time, the glorification of patriotism is neatly checked by the presence, printed large on a wall, of a 1943 wartime poem that Langston Hughes addressed to his American homeland: \\u201cEverything that   mussolini   get the   from you. \\u201d White America, the message is  \\u2014   or one message is  \\u2014   repeatedly forces black America into a stance of resistance and dissent. Among sports treasures, there is a rack of medals earned by the    star Carl Lewis and a leotard worn by the gymnast Gabby Douglas in her first competitive season. And there\\u2019s a sculptural tableau in which the 1968 Mexico Olympic runners Tommie Smith and John Carlos greet the \\u201c  Banner\\u201d with raised fists. (Mr. Carlos, then 23, and Mr. Smith, 24, were quickly expelled from the Olympic Village and sent home.) Politics, exactly what opponents of the museum wanted to suppress, is everywhere: It\\u2019s the story, and it\\u2019s told in many ways, as you see in the \\u201cCulture\\u201d galleries on the fourth floor. The museum\\u2019s art curators, Jacquelyn D. Serwer and Tuliza Fleming, have assembled a modest collection of modern and contemporary works that combine   figures with textbook stars and usefully confuse any pigeonholing definition of what \\u201c  art\\u201d  \\u2014   and by extension, identity  \\u2014   means. Some paintings  \\u2014   by McArthur Binion, Mavis Pusey and William T. Williams  \\u2014   are entirely abstract others overtly topical. In still others, political references reveal themselves slowly, increasing their impact. If you look carefully at a 1956 Crucifixion scene by David C. Driskell, you\\u2019ll find a ghostly image of Mr. Till\\u2019s coffin in the background. If you could crawl under the witty, jazzy sculpture \\u201cMothership (Capsule),\\u201d by the Washington artist Jefferson Pinder, you\\u2019d find supports made of wood salvaged from President Obama\\u2019s 2009 Inauguration Day platform. There\\u2019s another Mothership on view for the opening, too, this one a   aluminum stage prop with flashing lights once used in the 1990s by the   musician George Clinton and his   band. It\\u2019s in the \\u201cMusic\\u201d galleries, which are pure heaven. If nothing else draws crowds into the museum, they will come to see Chuck Berry\\u2019s   Cadillac, Jimi Hendrix\\u2019s vest and Michael Jackson\\u2019s fedora, and to hear, in an old film, Mahalia Jackson sing \\u201cHis Eye Is on the Sparrow. \\u201d Ms. Jackson performed at the 1963 march. When Dr. King\\u2019s prepared speech was winding down, she called out, \\u201cTell them about the dream, Martin!\\u201d And he did. When I was in the \\u201cMusic\\u201d galleries a week or so ago, with the installation still very much underway, a group of young women, possibly docents in training, came through on a tour. One woman stopped in front of a music video, stared for a minute, and burst out, \\u201cThat\\u2019s my grandfather. \\u201d Everyone gathered around. The performer was the jazz pianist Fats Waller (born Thomas Wright Waller). \\u201cI think I\\u2019m going to cry!\\u201d she said. But didn\\u2019t. She beamed, and took cellphone pictures to show her family. I suspect there are going to be a lot of recognitions and reunions, smiles and tears, in this museum in the days and years ahead, right across the American spectrum. I also suspect  \\u2014   hope, actually  \\u2014   that the museum will never be finished, or consider itself so that its take on   history, which is American history, stays fluid, critical and richly confused: real, in other words.\",\n          \"The outdoor lot of Mr. Z Towing in Flushing, Queens, looked like an automotive graveyard. A   Pontiac Grand Prix, one of 20 towed or abandoned cars that the New York City Department of Finance was auctioning on Tuesday, came with a Popeyes fried chicken box on its dashboard. Others were scuffed and dented. The cars did not even have keys. Some of the vehicles on offer had another serious flaw: safety problems for which recall notices had been issued but repairs were never made. That included explosive Takata airbags that have been linked to 15 deaths. The airbag defect claimed another life last month, a    Riverside, Calif. woman whose 2001 Honda Civic had been sold three times at auto auctions much like the one in Queens, before her son bought it from an acquaintance. The woman, Delia Robles, was on her way to get a flu shot when her car collided with a pickup truck. The death has highlighted a group of drivers especially vulnerable to dangerous vehicles: second, third or even fourth owners, who purchased their vehicles in transactions far removed from the protections offered to buyers of new cars. There is no explicit federal requirement that sellers of used cars fix problems related to safety recalls, or even disclose the recalls, the way   dealers must. Efforts to introduce tougher laws for used cars have languished in Congress, under lobbying pressure from the   industry. The more lax regulations for   safety affect a large swath of the population. Last year, more than 38 million used cars were sold across the country  \\u2014   more than twice as many as were sold new, according to the automotive information site Edmunds. com. Auctions, whether by governments or dealers, represent the least regulated rung of the industry, often dealing in   cars that are sold to the most vulnerable consumers, said Bernard Brown, a consumer protection lawyer in Kansas City, Mo. who has closely followed auto auction companies. \\u201cAuctions are where dealers who would be uncomfortable selling damaged and defective cars directly to their customers will unload to other dealers who do want to sell them,\\u201d he said. \\u201cIt would typically be dealers who sell to the less educated, less   poorer,     consumers,\\u201d Mr. Brown said. While the country\\u2019s largest trade groups for sellers of used vehicles say they encourage their members to disclose and fix recalled vehicles, they stop short of requiring it. \\u201cWe certainly advise, from a   standpoint, that if a fix is available then our dealers follow that process,\\u201d said Shaun Petersen, a senior vice president at the National Independent Automobile Dealers Association, a trade group whose members include   dealers. \\u201cAnd if a fix is not available, then certainly it\\u2019s in your best interest and best practice to disclose. \\u201d Ms. Robles\\u2019s son, Jose Contreras, 26, bought his mother\\u2019s car a year ago from Ivan Henderson, a man he met playing pool. Last month, during a   the car\\u2019s airbag exploded, propelling metal parts that killed Ms. Robles, who worked the 5 a. m. shift as a breakfast attendant at a Hampton Inn. \\u201cShe was my best friend,\\u201d Mr. Contreras said of his mother, in text messages, from his home in Riverside. \\u201cHer grandkids were her world. \\u201d Honda said it had sent out more than 20 notices since that model was first recalled in 2008, warning that its   airbag could rupture. Instead of being fixed, the Honda was resold at least three times since the recall  \\u2014   at auctions in 2010 and in 2015, then by Mr. Henderson, who bought the car at an auction then sold it to Mr. Contreras for $2, 100. The estimated   value of Ms. Robles\\u2019s car, which had clocked 139, 000 miles, was about $1, 450, assuming it was in fair condition, according to Kelley Blue Book. Safety advocates say that Mr. Henderson and the sellers before him should never have sold a recalled car without disclosing the defect or getting the airbag replaced at a Honda dealer at no cost to the owner. Recall information on specific cars is available from the car\\u2019s maker and, since 2014, has been pooled in an online government database, which anyone can search using a vehicle identification number. And even before then, dealers and consumers alike were able to check whether a car was under recall by calling a government auto safety hotline. Vendors like Carfax also provide detailed car history reports for a fee. Despite the lack of explicit federal laws on recalled used cars, a patchwork of state consumer protections and laws already effectively prohibits the sale of dangerous vehicles, some safety advocates and lawyers say. \\u201cAnytime they conceal a material defect, that\\u2019s fraud,\\u201d said Rosemary Shahan, the president of the nonprofit Consumers for Auto Reliability and Safety. New York State, for instance, forbids the sale of vehicles \\u201cas is. \\u201d The New York City Department of Consumer Affairs says cars offered for sale must be \\u201croadworthy,\\u201d and it has gone after dealers it suspected of selling cars that were recalled but not repaired. But in New York State, government agencies are exempt from the \\u201cas is\\u201d rule, providing a loophole for the city\\u2019s Department of Finance auctions. Some companies like CarMax, one of the country\\u2019s largest   dealers, advertise that their vehicles pass rigorous safety tests  \\u2014   even if the cars have unrepaired problems for which recalls have been issued. CarMax says it discloses recalls. Still, Ms. Shahan and others argue, advertising a recalled vehicle as safe is misleading. The vast universe of   sales has created challenges for reaching owners of recalled vehicles, said Bryan Thomas, a spokesman for the National Highway Traffic Safety Administration. Though automakers are required by law to make an effort to contact a car\\u2019s current owner about a recall, the owners of used cars that have changed hands several times can be hard to track down. \\u201cThe people who own    vehicles don\\u2019t generally have a direct relationship with the dealers,\\u201d Mr. Thomas said. \\u201cHow do you get to those people? Is the address data   ?\\u201d And, he said, do they know that fixing recalls is free? The task is especially critical for defective Takata airbags, which contain a compound that breaks down over time, making them increasingly prone to rupturing. Ms. Robles\\u2019s 2001 Civic was one of about 300, 000 cars with airbags that federal regulators say pose a particularly high risk of exploding. Three of the cars at Tuesday\\u2019s Department of Finance auction had been recalled for defective Takata airbags. Three others had open recalls for a deadly ignition switch defect that can cause a loss of power in cars. But the cars were being sold \\u201cas is,\\u201d even if they were under recall, the auctioneer, Dennis Alestra, announced through a loudspeaker. \\u201cAll sales are final,\\u201d he warned. The city checks whether cars have been stolen or salvaged but does not look at whether a car has been recalled, said Patrick Edwards, a Department of Finance official. \\u201cWe\\u2019re not responsible for any safety issues,\\u201d he said. \\u201cAll buyers, the risk is on them. \\u201d In a statement, Sonia Alleyne, a spokeswoman for the department, said that protecting consumers was a \\u201cpriority\\u201d and that the agency was \\u201copen to working with state lawmakers to improve\\u201d the auction process. Juan Carlos, a retired mechanical engineer who had his eye on a 2005 Dodge Grand Caravan, knew to be wary. \\u201cThese cars are from the street,\\u201d he said, \\u201cso you\\u2019re taking a chance. \\u201d But Mr. Henderson, who bought the car that killed Ms. Robles in California, said he was shocked to learn only after her death about the car\\u2019s safety issues. He bought the car at a wholesale auction run by Manheim, part of Cox Automotive, which also runs the vehicle research and valuation company Kelley Blue Book. \\u201cThey just said \\u2018as is,\\u2019\\u201d he said. \\u201cI knew nothing about the car. \\u201d A spokesman for Manheim, which processes 7. 5 million cars a year, said the company encouraged sellers to disclose recall information. There was \\u201cno realistic way\\u201d for the company to force dealers to disclose safety defects, said the spokesman, Chintan Talati. Honda said it had been looking for the car\\u2019s owner. On top of the 20 mailed notifications, the automaker made more than 90 phone calls to the vehicle\\u2019s previous owners, a Honda spokesman, Chris Martin, said. And while Honda said it had sent recall notices to two addresses associated with Ms. Robles, Mr. Contreras said he did not know about them. Honda said it had been unable to find Ms. Robles\\u2019s phone number. Honda never managed to elicit a response from Ms. Robles. When she drove to a clinic to get a flu shot on her day off last month, she hit a Chevy pickup that turned in her path. It was an accident that Ms. Robles should have walked away from. But her airbag ruptured violently. She was taken to a nearby hospital but later died from her wounds, according to the Riverside Police Department. She left behind three children and three grandchildren. \\u201cShe had just such a bright spirit,\\u201d said Monica Sanchez, front office manager at the Hampton Inn where Ms. Robles had worked for five years. Ms. Robles had come to know the regulars, Ms. Sanchez said, including one guest whom she greeted every morning with a bowl of strawberries, which he liked to eat. After the accident, the hotel staff made a photo collage of Ms. Robles. It hangs near the kitchen, for all the guests to see.\"\n        ],\n        \"semantic_type\": \"\",\n        \"description\": \"\"\n      }\n    },\n    {\n      \"column\": \"label\",\n      \"properties\": {\n        \"dtype\": \"number\",\n        \"std\": 0,\n        \"min\": 0,\n        \"max\": 1,\n        \"num_unique_values\": 2,\n        \"samples\": [\n          0,\n          1\n        ],\n        \"semantic_type\": \"\",\n        \"description\": \"\"\n      }\n    }\n  ]\n}"
            }
          },
          "metadata": {},
          "execution_count": 65
        }
      ]
    },
    {
      "cell_type": "code",
      "source": [
        "train_val_texts2, test_texts2, train_val_labels2, test_labels2 = train_test_split(\n",
        "    df_new['text'], df_new['label'], test_size=0.2, stratify = df_new['label'], random_state=42)\n",
        "# 60% train, 20% val\n",
        "train_texts2, val_texts2, train_labels2, val_labels2 = train_test_split(\n",
        "    train_val_texts2, train_val_labels2, test_size=0.25, stratify = train_val_labels2, random_state=42 )"
      ],
      "metadata": {
        "id": "wZnF1UnD9xsW"
      },
      "execution_count": null,
      "outputs": []
    },
    {
      "cell_type": "markdown",
      "source": [
        "#LR2"
      ],
      "metadata": {
        "id": "ZDlBW8zv-NJD"
      }
    },
    {
      "cell_type": "code",
      "source": [
        "vectorizer = TfidfVectorizer(max_features=5000, stop_words=\"english\")\n"
      ],
      "metadata": {
        "id": "CodFtctt-Lfh"
      },
      "execution_count": null,
      "outputs": []
    },
    {
      "cell_type": "code",
      "source": [
        "X_train = vectorizer.fit_transform(train_texts2)\n",
        "X_val = vectorizer.transform(val_texts2)\n",
        "X_test = vectorizer.transform(test_texts2)\n",
        "\n",
        "y_train = train_labels2\n",
        "y_val = val_labels2\n",
        "y_test = test_labels2"
      ],
      "metadata": {
        "id": "gy71LMEa-Lfi"
      },
      "execution_count": null,
      "outputs": []
    },
    {
      "cell_type": "code",
      "source": [
        "logistic_model2 = LogisticRegression(max_iter=1000, random_state=42)\n",
        "logistic_model2.fit(X_train, y_train)"
      ],
      "metadata": {
        "outputId": "ec11eeed-05c8-453d-e0dd-c8de13535ade",
        "colab": {
          "base_uri": "https://localhost:8080/",
          "height": 80
        },
        "id": "eSf-yDvW-Lfi"
      },
      "execution_count": null,
      "outputs": [
        {
          "output_type": "execute_result",
          "data": {
            "text/plain": [
              "LogisticRegression(max_iter=1000, random_state=42)"
            ],
            "text/html": [
              "<style>#sk-container-id-2 {\n",
              "  /* Definition of color scheme common for light and dark mode */\n",
              "  --sklearn-color-text: black;\n",
              "  --sklearn-color-line: gray;\n",
              "  /* Definition of color scheme for unfitted estimators */\n",
              "  --sklearn-color-unfitted-level-0: #fff5e6;\n",
              "  --sklearn-color-unfitted-level-1: #f6e4d2;\n",
              "  --sklearn-color-unfitted-level-2: #ffe0b3;\n",
              "  --sklearn-color-unfitted-level-3: chocolate;\n",
              "  /* Definition of color scheme for fitted estimators */\n",
              "  --sklearn-color-fitted-level-0: #f0f8ff;\n",
              "  --sklearn-color-fitted-level-1: #d4ebff;\n",
              "  --sklearn-color-fitted-level-2: #b3dbfd;\n",
              "  --sklearn-color-fitted-level-3: cornflowerblue;\n",
              "\n",
              "  /* Specific color for light theme */\n",
              "  --sklearn-color-text-on-default-background: var(--sg-text-color, var(--theme-code-foreground, var(--jp-content-font-color1, black)));\n",
              "  --sklearn-color-background: var(--sg-background-color, var(--theme-background, var(--jp-layout-color0, white)));\n",
              "  --sklearn-color-border-box: var(--sg-text-color, var(--theme-code-foreground, var(--jp-content-font-color1, black)));\n",
              "  --sklearn-color-icon: #696969;\n",
              "\n",
              "  @media (prefers-color-scheme: dark) {\n",
              "    /* Redefinition of color scheme for dark theme */\n",
              "    --sklearn-color-text-on-default-background: var(--sg-text-color, var(--theme-code-foreground, var(--jp-content-font-color1, white)));\n",
              "    --sklearn-color-background: var(--sg-background-color, var(--theme-background, var(--jp-layout-color0, #111)));\n",
              "    --sklearn-color-border-box: var(--sg-text-color, var(--theme-code-foreground, var(--jp-content-font-color1, white)));\n",
              "    --sklearn-color-icon: #878787;\n",
              "  }\n",
              "}\n",
              "\n",
              "#sk-container-id-2 {\n",
              "  color: var(--sklearn-color-text);\n",
              "}\n",
              "\n",
              "#sk-container-id-2 pre {\n",
              "  padding: 0;\n",
              "}\n",
              "\n",
              "#sk-container-id-2 input.sk-hidden--visually {\n",
              "  border: 0;\n",
              "  clip: rect(1px 1px 1px 1px);\n",
              "  clip: rect(1px, 1px, 1px, 1px);\n",
              "  height: 1px;\n",
              "  margin: -1px;\n",
              "  overflow: hidden;\n",
              "  padding: 0;\n",
              "  position: absolute;\n",
              "  width: 1px;\n",
              "}\n",
              "\n",
              "#sk-container-id-2 div.sk-dashed-wrapped {\n",
              "  border: 1px dashed var(--sklearn-color-line);\n",
              "  margin: 0 0.4em 0.5em 0.4em;\n",
              "  box-sizing: border-box;\n",
              "  padding-bottom: 0.4em;\n",
              "  background-color: var(--sklearn-color-background);\n",
              "}\n",
              "\n",
              "#sk-container-id-2 div.sk-container {\n",
              "  /* jupyter's `normalize.less` sets `[hidden] { display: none; }`\n",
              "     but bootstrap.min.css set `[hidden] { display: none !important; }`\n",
              "     so we also need the `!important` here to be able to override the\n",
              "     default hidden behavior on the sphinx rendered scikit-learn.org.\n",
              "     See: https://github.com/scikit-learn/scikit-learn/issues/21755 */\n",
              "  display: inline-block !important;\n",
              "  position: relative;\n",
              "}\n",
              "\n",
              "#sk-container-id-2 div.sk-text-repr-fallback {\n",
              "  display: none;\n",
              "}\n",
              "\n",
              "div.sk-parallel-item,\n",
              "div.sk-serial,\n",
              "div.sk-item {\n",
              "  /* draw centered vertical line to link estimators */\n",
              "  background-image: linear-gradient(var(--sklearn-color-text-on-default-background), var(--sklearn-color-text-on-default-background));\n",
              "  background-size: 2px 100%;\n",
              "  background-repeat: no-repeat;\n",
              "  background-position: center center;\n",
              "}\n",
              "\n",
              "/* Parallel-specific style estimator block */\n",
              "\n",
              "#sk-container-id-2 div.sk-parallel-item::after {\n",
              "  content: \"\";\n",
              "  width: 100%;\n",
              "  border-bottom: 2px solid var(--sklearn-color-text-on-default-background);\n",
              "  flex-grow: 1;\n",
              "}\n",
              "\n",
              "#sk-container-id-2 div.sk-parallel {\n",
              "  display: flex;\n",
              "  align-items: stretch;\n",
              "  justify-content: center;\n",
              "  background-color: var(--sklearn-color-background);\n",
              "  position: relative;\n",
              "}\n",
              "\n",
              "#sk-container-id-2 div.sk-parallel-item {\n",
              "  display: flex;\n",
              "  flex-direction: column;\n",
              "}\n",
              "\n",
              "#sk-container-id-2 div.sk-parallel-item:first-child::after {\n",
              "  align-self: flex-end;\n",
              "  width: 50%;\n",
              "}\n",
              "\n",
              "#sk-container-id-2 div.sk-parallel-item:last-child::after {\n",
              "  align-self: flex-start;\n",
              "  width: 50%;\n",
              "}\n",
              "\n",
              "#sk-container-id-2 div.sk-parallel-item:only-child::after {\n",
              "  width: 0;\n",
              "}\n",
              "\n",
              "/* Serial-specific style estimator block */\n",
              "\n",
              "#sk-container-id-2 div.sk-serial {\n",
              "  display: flex;\n",
              "  flex-direction: column;\n",
              "  align-items: center;\n",
              "  background-color: var(--sklearn-color-background);\n",
              "  padding-right: 1em;\n",
              "  padding-left: 1em;\n",
              "}\n",
              "\n",
              "\n",
              "/* Toggleable style: style used for estimator/Pipeline/ColumnTransformer box that is\n",
              "clickable and can be expanded/collapsed.\n",
              "- Pipeline and ColumnTransformer use this feature and define the default style\n",
              "- Estimators will overwrite some part of the style using the `sk-estimator` class\n",
              "*/\n",
              "\n",
              "/* Pipeline and ColumnTransformer style (default) */\n",
              "\n",
              "#sk-container-id-2 div.sk-toggleable {\n",
              "  /* Default theme specific background. It is overwritten whether we have a\n",
              "  specific estimator or a Pipeline/ColumnTransformer */\n",
              "  background-color: var(--sklearn-color-background);\n",
              "}\n",
              "\n",
              "/* Toggleable label */\n",
              "#sk-container-id-2 label.sk-toggleable__label {\n",
              "  cursor: pointer;\n",
              "  display: block;\n",
              "  width: 100%;\n",
              "  margin-bottom: 0;\n",
              "  padding: 0.5em;\n",
              "  box-sizing: border-box;\n",
              "  text-align: center;\n",
              "}\n",
              "\n",
              "#sk-container-id-2 label.sk-toggleable__label-arrow:before {\n",
              "  /* Arrow on the left of the label */\n",
              "  content: \"▸\";\n",
              "  float: left;\n",
              "  margin-right: 0.25em;\n",
              "  color: var(--sklearn-color-icon);\n",
              "}\n",
              "\n",
              "#sk-container-id-2 label.sk-toggleable__label-arrow:hover:before {\n",
              "  color: var(--sklearn-color-text);\n",
              "}\n",
              "\n",
              "/* Toggleable content - dropdown */\n",
              "\n",
              "#sk-container-id-2 div.sk-toggleable__content {\n",
              "  max-height: 0;\n",
              "  max-width: 0;\n",
              "  overflow: hidden;\n",
              "  text-align: left;\n",
              "  /* unfitted */\n",
              "  background-color: var(--sklearn-color-unfitted-level-0);\n",
              "}\n",
              "\n",
              "#sk-container-id-2 div.sk-toggleable__content.fitted {\n",
              "  /* fitted */\n",
              "  background-color: var(--sklearn-color-fitted-level-0);\n",
              "}\n",
              "\n",
              "#sk-container-id-2 div.sk-toggleable__content pre {\n",
              "  margin: 0.2em;\n",
              "  border-radius: 0.25em;\n",
              "  color: var(--sklearn-color-text);\n",
              "  /* unfitted */\n",
              "  background-color: var(--sklearn-color-unfitted-level-0);\n",
              "}\n",
              "\n",
              "#sk-container-id-2 div.sk-toggleable__content.fitted pre {\n",
              "  /* unfitted */\n",
              "  background-color: var(--sklearn-color-fitted-level-0);\n",
              "}\n",
              "\n",
              "#sk-container-id-2 input.sk-toggleable__control:checked~div.sk-toggleable__content {\n",
              "  /* Expand drop-down */\n",
              "  max-height: 200px;\n",
              "  max-width: 100%;\n",
              "  overflow: auto;\n",
              "}\n",
              "\n",
              "#sk-container-id-2 input.sk-toggleable__control:checked~label.sk-toggleable__label-arrow:before {\n",
              "  content: \"▾\";\n",
              "}\n",
              "\n",
              "/* Pipeline/ColumnTransformer-specific style */\n",
              "\n",
              "#sk-container-id-2 div.sk-label input.sk-toggleable__control:checked~label.sk-toggleable__label {\n",
              "  color: var(--sklearn-color-text);\n",
              "  background-color: var(--sklearn-color-unfitted-level-2);\n",
              "}\n",
              "\n",
              "#sk-container-id-2 div.sk-label.fitted input.sk-toggleable__control:checked~label.sk-toggleable__label {\n",
              "  background-color: var(--sklearn-color-fitted-level-2);\n",
              "}\n",
              "\n",
              "/* Estimator-specific style */\n",
              "\n",
              "/* Colorize estimator box */\n",
              "#sk-container-id-2 div.sk-estimator input.sk-toggleable__control:checked~label.sk-toggleable__label {\n",
              "  /* unfitted */\n",
              "  background-color: var(--sklearn-color-unfitted-level-2);\n",
              "}\n",
              "\n",
              "#sk-container-id-2 div.sk-estimator.fitted input.sk-toggleable__control:checked~label.sk-toggleable__label {\n",
              "  /* fitted */\n",
              "  background-color: var(--sklearn-color-fitted-level-2);\n",
              "}\n",
              "\n",
              "#sk-container-id-2 div.sk-label label.sk-toggleable__label,\n",
              "#sk-container-id-2 div.sk-label label {\n",
              "  /* The background is the default theme color */\n",
              "  color: var(--sklearn-color-text-on-default-background);\n",
              "}\n",
              "\n",
              "/* On hover, darken the color of the background */\n",
              "#sk-container-id-2 div.sk-label:hover label.sk-toggleable__label {\n",
              "  color: var(--sklearn-color-text);\n",
              "  background-color: var(--sklearn-color-unfitted-level-2);\n",
              "}\n",
              "\n",
              "/* Label box, darken color on hover, fitted */\n",
              "#sk-container-id-2 div.sk-label.fitted:hover label.sk-toggleable__label.fitted {\n",
              "  color: var(--sklearn-color-text);\n",
              "  background-color: var(--sklearn-color-fitted-level-2);\n",
              "}\n",
              "\n",
              "/* Estimator label */\n",
              "\n",
              "#sk-container-id-2 div.sk-label label {\n",
              "  font-family: monospace;\n",
              "  font-weight: bold;\n",
              "  display: inline-block;\n",
              "  line-height: 1.2em;\n",
              "}\n",
              "\n",
              "#sk-container-id-2 div.sk-label-container {\n",
              "  text-align: center;\n",
              "}\n",
              "\n",
              "/* Estimator-specific */\n",
              "#sk-container-id-2 div.sk-estimator {\n",
              "  font-family: monospace;\n",
              "  border: 1px dotted var(--sklearn-color-border-box);\n",
              "  border-radius: 0.25em;\n",
              "  box-sizing: border-box;\n",
              "  margin-bottom: 0.5em;\n",
              "  /* unfitted */\n",
              "  background-color: var(--sklearn-color-unfitted-level-0);\n",
              "}\n",
              "\n",
              "#sk-container-id-2 div.sk-estimator.fitted {\n",
              "  /* fitted */\n",
              "  background-color: var(--sklearn-color-fitted-level-0);\n",
              "}\n",
              "\n",
              "/* on hover */\n",
              "#sk-container-id-2 div.sk-estimator:hover {\n",
              "  /* unfitted */\n",
              "  background-color: var(--sklearn-color-unfitted-level-2);\n",
              "}\n",
              "\n",
              "#sk-container-id-2 div.sk-estimator.fitted:hover {\n",
              "  /* fitted */\n",
              "  background-color: var(--sklearn-color-fitted-level-2);\n",
              "}\n",
              "\n",
              "/* Specification for estimator info (e.g. \"i\" and \"?\") */\n",
              "\n",
              "/* Common style for \"i\" and \"?\" */\n",
              "\n",
              ".sk-estimator-doc-link,\n",
              "a:link.sk-estimator-doc-link,\n",
              "a:visited.sk-estimator-doc-link {\n",
              "  float: right;\n",
              "  font-size: smaller;\n",
              "  line-height: 1em;\n",
              "  font-family: monospace;\n",
              "  background-color: var(--sklearn-color-background);\n",
              "  border-radius: 1em;\n",
              "  height: 1em;\n",
              "  width: 1em;\n",
              "  text-decoration: none !important;\n",
              "  margin-left: 1ex;\n",
              "  /* unfitted */\n",
              "  border: var(--sklearn-color-unfitted-level-1) 1pt solid;\n",
              "  color: var(--sklearn-color-unfitted-level-1);\n",
              "}\n",
              "\n",
              ".sk-estimator-doc-link.fitted,\n",
              "a:link.sk-estimator-doc-link.fitted,\n",
              "a:visited.sk-estimator-doc-link.fitted {\n",
              "  /* fitted */\n",
              "  border: var(--sklearn-color-fitted-level-1) 1pt solid;\n",
              "  color: var(--sklearn-color-fitted-level-1);\n",
              "}\n",
              "\n",
              "/* On hover */\n",
              "div.sk-estimator:hover .sk-estimator-doc-link:hover,\n",
              ".sk-estimator-doc-link:hover,\n",
              "div.sk-label-container:hover .sk-estimator-doc-link:hover,\n",
              ".sk-estimator-doc-link:hover {\n",
              "  /* unfitted */\n",
              "  background-color: var(--sklearn-color-unfitted-level-3);\n",
              "  color: var(--sklearn-color-background);\n",
              "  text-decoration: none;\n",
              "}\n",
              "\n",
              "div.sk-estimator.fitted:hover .sk-estimator-doc-link.fitted:hover,\n",
              ".sk-estimator-doc-link.fitted:hover,\n",
              "div.sk-label-container:hover .sk-estimator-doc-link.fitted:hover,\n",
              ".sk-estimator-doc-link.fitted:hover {\n",
              "  /* fitted */\n",
              "  background-color: var(--sklearn-color-fitted-level-3);\n",
              "  color: var(--sklearn-color-background);\n",
              "  text-decoration: none;\n",
              "}\n",
              "\n",
              "/* Span, style for the box shown on hovering the info icon */\n",
              ".sk-estimator-doc-link span {\n",
              "  display: none;\n",
              "  z-index: 9999;\n",
              "  position: relative;\n",
              "  font-weight: normal;\n",
              "  right: .2ex;\n",
              "  padding: .5ex;\n",
              "  margin: .5ex;\n",
              "  width: min-content;\n",
              "  min-width: 20ex;\n",
              "  max-width: 50ex;\n",
              "  color: var(--sklearn-color-text);\n",
              "  box-shadow: 2pt 2pt 4pt #999;\n",
              "  /* unfitted */\n",
              "  background: var(--sklearn-color-unfitted-level-0);\n",
              "  border: .5pt solid var(--sklearn-color-unfitted-level-3);\n",
              "}\n",
              "\n",
              ".sk-estimator-doc-link.fitted span {\n",
              "  /* fitted */\n",
              "  background: var(--sklearn-color-fitted-level-0);\n",
              "  border: var(--sklearn-color-fitted-level-3);\n",
              "}\n",
              "\n",
              ".sk-estimator-doc-link:hover span {\n",
              "  display: block;\n",
              "}\n",
              "\n",
              "/* \"?\"-specific style due to the `<a>` HTML tag */\n",
              "\n",
              "#sk-container-id-2 a.estimator_doc_link {\n",
              "  float: right;\n",
              "  font-size: 1rem;\n",
              "  line-height: 1em;\n",
              "  font-family: monospace;\n",
              "  background-color: var(--sklearn-color-background);\n",
              "  border-radius: 1rem;\n",
              "  height: 1rem;\n",
              "  width: 1rem;\n",
              "  text-decoration: none;\n",
              "  /* unfitted */\n",
              "  color: var(--sklearn-color-unfitted-level-1);\n",
              "  border: var(--sklearn-color-unfitted-level-1) 1pt solid;\n",
              "}\n",
              "\n",
              "#sk-container-id-2 a.estimator_doc_link.fitted {\n",
              "  /* fitted */\n",
              "  border: var(--sklearn-color-fitted-level-1) 1pt solid;\n",
              "  color: var(--sklearn-color-fitted-level-1);\n",
              "}\n",
              "\n",
              "/* On hover */\n",
              "#sk-container-id-2 a.estimator_doc_link:hover {\n",
              "  /* unfitted */\n",
              "  background-color: var(--sklearn-color-unfitted-level-3);\n",
              "  color: var(--sklearn-color-background);\n",
              "  text-decoration: none;\n",
              "}\n",
              "\n",
              "#sk-container-id-2 a.estimator_doc_link.fitted:hover {\n",
              "  /* fitted */\n",
              "  background-color: var(--sklearn-color-fitted-level-3);\n",
              "}\n",
              "</style><div id=\"sk-container-id-2\" class=\"sk-top-container\"><div class=\"sk-text-repr-fallback\"><pre>LogisticRegression(max_iter=1000, random_state=42)</pre><b>In a Jupyter environment, please rerun this cell to show the HTML representation or trust the notebook. <br />On GitHub, the HTML representation is unable to render, please try loading this page with nbviewer.org.</b></div><div class=\"sk-container\" hidden><div class=\"sk-item\"><div class=\"sk-estimator fitted sk-toggleable\"><input class=\"sk-toggleable__control sk-hidden--visually\" id=\"sk-estimator-id-2\" type=\"checkbox\" checked><label for=\"sk-estimator-id-2\" class=\"sk-toggleable__label fitted sk-toggleable__label-arrow fitted\">&nbsp;&nbsp;LogisticRegression<a class=\"sk-estimator-doc-link fitted\" rel=\"noreferrer\" target=\"_blank\" href=\"https://scikit-learn.org/1.5/modules/generated/sklearn.linear_model.LogisticRegression.html\">?<span>Documentation for LogisticRegression</span></a><span class=\"sk-estimator-doc-link fitted\">i<span>Fitted</span></span></label><div class=\"sk-toggleable__content fitted\"><pre>LogisticRegression(max_iter=1000, random_state=42)</pre></div> </div></div></div></div>"
            ]
          },
          "metadata": {},
          "execution_count": 69
        }
      ]
    },
    {
      "cell_type": "code",
      "source": [
        "y_val_preds2 = logistic_model2.predict(X_val)\n",
        "print(classification_report(y_val, y_val_preds2))\n"
      ],
      "metadata": {
        "outputId": "0d02c938-b0cd-4e47-e09e-488a33b39b52",
        "colab": {
          "base_uri": "https://localhost:8080/"
        },
        "id": "NGghWeud-Lfj"
      },
      "execution_count": null,
      "outputs": [
        {
          "output_type": "stream",
          "name": "stdout",
          "text": [
            "              precision    recall  f1-score   support\n",
            "\n",
            "           0       0.96      0.94      0.95      2078\n",
            "           1       0.94      0.96      0.95      1963\n",
            "\n",
            "    accuracy                           0.95      4041\n",
            "   macro avg       0.95      0.95      0.95      4041\n",
            "weighted avg       0.95      0.95      0.95      4041\n",
            "\n"
          ]
        }
      ]
    },
    {
      "cell_type": "code",
      "source": [
        "y_test_preds2 = logistic_model2.predict(X_test)\n",
        "print(classification_report(y_test, y_test_preds2))\n"
      ],
      "metadata": {
        "outputId": "57a4fbfb-7845-421a-d9ee-1a3b74a1c185",
        "colab": {
          "base_uri": "https://localhost:8080/"
        },
        "id": "KhEV9DVO-Lfj"
      },
      "execution_count": null,
      "outputs": [
        {
          "output_type": "stream",
          "name": "stdout",
          "text": [
            "              precision    recall  f1-score   support\n",
            "\n",
            "           0       0.95      0.93      0.94      2078\n",
            "           1       0.93      0.95      0.94      1963\n",
            "\n",
            "    accuracy                           0.94      4041\n",
            "   macro avg       0.94      0.94      0.94      4041\n",
            "weighted avg       0.94      0.94      0.94      4041\n",
            "\n"
          ]
        }
      ]
    },
    {
      "cell_type": "markdown",
      "source": [
        "New Models"
      ],
      "metadata": {
        "id": "VWCx461E_ArP"
      }
    },
    {
      "cell_type": "code",
      "source": [
        "train_val_texts2, test_texts2, train_val_labels2, test_labels2 = train_test_split(\n",
        "    df_new['text'], df_new['label'], test_size=0.2, stratify = df_new['label'], random_state=42)\n",
        "# 60% train, 20% val\n",
        "train_texts2, val_texts2, train_labels2, val_labels2 = train_test_split(\n",
        "    train_val_texts2, train_val_labels2, test_size=0.25, stratify = train_val_labels2, random_state=42 )"
      ],
      "metadata": {
        "id": "h-1r8SKBAdah"
      },
      "execution_count": null,
      "outputs": []
    },
    {
      "cell_type": "code",
      "execution_count": null,
      "metadata": {
        "id": "YEOG2Iz7_gfx"
      },
      "outputs": [],
      "source": [
        "b_tokenizer = BertTokenizer.from_pretrained(\"bert-base-uncased\")"
      ]
    },
    {
      "cell_type": "code",
      "execution_count": null,
      "metadata": {
        "id": "6eUn5w5E_gfy"
      },
      "outputs": [],
      "source": [
        "train_encodings2 = encode_texts(train_texts2, b_tokenizer)\n",
        "val_encodings2 = encode_texts(val_texts2, b_tokenizer)\n",
        "test_encodings2 = encode_texts(test_texts2, b_tokenizer)"
      ]
    },
    {
      "cell_type": "code",
      "source": [
        "# Convert to tf dataset\n",
        "train_dataset2 = tf.data.Dataset.from_tensor_slices((\n",
        "    {\n",
        "        \"input_ids\": train_encodings2[\"input_ids\"],\n",
        "        \"attention_mask\": train_encodings2[\"attention_mask\"]\n",
        "    },\n",
        "    train_labels2\n",
        ")).batch(BATCH_SIZE)\n",
        "\n",
        "val_dataset2 = tf.data.Dataset.from_tensor_slices((\n",
        "    {\n",
        "        \"input_ids\": val_encodings2[\"input_ids\"],\n",
        "        \"attention_mask\": val_encodings2[\"attention_mask\"]\n",
        "    },\n",
        "    val_labels2\n",
        ")).batch(BATCH_SIZE)\n",
        "\n",
        "test_dataset2 = tf.data.Dataset.from_tensor_slices((\n",
        "    {\n",
        "        \"input_ids\": test_encodings2[\"input_ids\"],\n",
        "        \"attention_mask\": test_encodings2[\"attention_mask\"]\n",
        "    },\n",
        "    test_labels2\n",
        ")).batch(BATCH_SIZE)"
      ],
      "metadata": {
        "id": "-m6KeHQX_gfy"
      },
      "execution_count": null,
      "outputs": []
    },
    {
      "cell_type": "code",
      "source": [
        "bert_model = TFBertModel.from_pretrained(\"bert-base-uncased\")"
      ],
      "metadata": {
        "colab": {
          "base_uri": "https://localhost:8080/"
        },
        "outputId": "c7670dec-e6d2-45f4-9a32-4f983c71c585",
        "id": "OOQjNSxJ_gfy"
      },
      "execution_count": null,
      "outputs": [
        {
          "output_type": "stream",
          "name": "stderr",
          "text": [
            "Some layers from the model checkpoint at bert-base-uncased were not used when initializing TFBertModel: ['mlm___cls', 'nsp___cls']\n",
            "- This IS expected if you are initializing TFBertModel from the checkpoint of a model trained on another task or with another architecture (e.g. initializing a BertForSequenceClassification model from a BertForPreTraining model).\n",
            "- This IS NOT expected if you are initializing TFBertModel from the checkpoint of a model that you expect to be exactly identical (initializing a BertForSequenceClassification model from a BertForSequenceClassification model).\n",
            "All the layers of TFBertModel were initialized from the model checkpoint at bert-base-uncased.\n",
            "If your task is similar to the task the model of the checkpoint was trained on, you can already use TFBertModel for predictions without further training.\n"
          ]
        }
      ]
    },
    {
      "cell_type": "code",
      "source": [
        "bert_classification_model2 = create_transformer_classification_model(bert_model, num_train_layers = 2  )\n",
        "history2b = bert_classification_model2.fit(train_dataset2, validation_data=val_dataset2, epochs=EPOCHS)"
      ],
      "metadata": {
        "colab": {
          "base_uri": "https://localhost:8080/"
        },
        "outputId": "81f3646e-232c-4cee-e88c-105c58e835dd",
        "id": "dnOGNk71_gfz"
      },
      "execution_count": null,
      "outputs": [
        {
          "output_type": "stream",
          "name": "stdout",
          "text": [
            "Epoch 1/2\n",
            "758/758 [==============================] - 410s 490ms/step - loss: 0.1133 - accuracy: 0.9545 - val_loss: 0.0413 - val_accuracy: 0.9869\n",
            "Epoch 2/2\n",
            "758/758 [==============================] - 362s 478ms/step - loss: 0.0330 - accuracy: 0.9895 - val_loss: 0.0727 - val_accuracy: 0.9834\n"
          ]
        }
      ]
    },
    {
      "cell_type": "code",
      "source": [
        "bert_preds2 = (bert_classification_model2.predict(test_dataset2) > 0.5).astype(\"int32\").flatten()\n"
      ],
      "metadata": {
        "colab": {
          "base_uri": "https://localhost:8080/"
        },
        "outputId": "4ff66e01-7f56-4667-f026-a1699ea4880f",
        "id": "svEsgyqs_gfz"
      },
      "execution_count": null,
      "outputs": [
        {
          "output_type": "stream",
          "name": "stdout",
          "text": [
            "253/253 [==============================] - 41s 147ms/step\n"
          ]
        }
      ]
    },
    {
      "cell_type": "code",
      "source": [
        "print(\"BERT Model Results:\")\n",
        "print(classification_report(test_labels2, bert_preds2))"
      ],
      "metadata": {
        "colab": {
          "base_uri": "https://localhost:8080/"
        },
        "outputId": "6e59242c-583f-40ad-8eae-6b1775a3f792",
        "id": "GBL7QywA_gfz"
      },
      "execution_count": null,
      "outputs": [
        {
          "output_type": "stream",
          "name": "stdout",
          "text": [
            "BERT Model Results:\n",
            "              precision    recall  f1-score   support\n",
            "\n",
            "           0       0.97      1.00      0.98      2078\n",
            "           1       1.00      0.97      0.98      1963\n",
            "\n",
            "    accuracy                           0.98      4041\n",
            "   macro avg       0.98      0.98      0.98      4041\n",
            "weighted avg       0.98      0.98      0.98      4041\n",
            "\n"
          ]
        }
      ]
    },
    {
      "cell_type": "markdown",
      "source": [
        "# Roberta"
      ],
      "metadata": {
        "id": "X6QvZEKK_gfz"
      }
    },
    {
      "cell_type": "code",
      "source": [
        "r_tokenizer = RobertaTokenizer.from_pretrained(\"roberta-base\")"
      ],
      "metadata": {
        "id": "swjsfj6L_gf0"
      },
      "execution_count": null,
      "outputs": []
    },
    {
      "cell_type": "code",
      "execution_count": null,
      "metadata": {
        "id": "clGwO8wa_gf0"
      },
      "outputs": [],
      "source": [
        "train_encodings2r = encode_texts(train_texts2, r_tokenizer)\n",
        "val_encodings2r = encode_texts(val_texts2, r_tokenizer)\n",
        "test_encodings2r = encode_texts(test_texts2, r_tokenizer)"
      ]
    },
    {
      "cell_type": "code",
      "source": [
        "# Convert to tf dataset\n",
        "train_dataset2r = tf.data.Dataset.from_tensor_slices((\n",
        "    {\n",
        "        \"input_ids\": train_encodings2r[\"input_ids\"],\n",
        "        \"attention_mask\": train_encodings2r[\"attention_mask\"]\n",
        "    },\n",
        "    train_labels2\n",
        ")).batch(BATCH_SIZE)\n",
        "\n",
        "val_dataset2r = tf.data.Dataset.from_tensor_slices((\n",
        "    {\n",
        "        \"input_ids\": val_encodings2r[\"input_ids\"],\n",
        "        \"attention_mask\": val_encodings2r[\"attention_mask\"]\n",
        "    },\n",
        "    val_labels2\n",
        ")).batch(BATCH_SIZE)\n",
        "\n",
        "test_dataset2r = tf.data.Dataset.from_tensor_slices((\n",
        "    {\n",
        "        \"input_ids\": test_encodings2r[\"input_ids\"],\n",
        "        \"attention_mask\": test_encodings2r[\"attention_mask\"]\n",
        "    },\n",
        "    test_labels2\n",
        ")).batch(BATCH_SIZE)"
      ],
      "metadata": {
        "id": "gHbk_B8q_gf0"
      },
      "execution_count": null,
      "outputs": []
    },
    {
      "cell_type": "code",
      "source": [
        "roberta_model = TFRobertaModel.from_pretrained(\"roberta-base\")"
      ],
      "metadata": {
        "colab": {
          "base_uri": "https://localhost:8080/"
        },
        "outputId": "aa0b21ba-454e-43fc-fb3a-3aa4de477a94",
        "id": "N_MHf06d_gf0"
      },
      "execution_count": null,
      "outputs": [
        {
          "output_type": "stream",
          "name": "stderr",
          "text": [
            "Some layers from the model checkpoint at roberta-base were not used when initializing TFRobertaModel: ['lm_head']\n",
            "- This IS expected if you are initializing TFRobertaModel from the checkpoint of a model trained on another task or with another architecture (e.g. initializing a BertForSequenceClassification model from a BertForPreTraining model).\n",
            "- This IS NOT expected if you are initializing TFRobertaModel from the checkpoint of a model that you expect to be exactly identical (initializing a BertForSequenceClassification model from a BertForSequenceClassification model).\n",
            "All the layers of TFRobertaModel were initialized from the model checkpoint at roberta-base.\n",
            "If your task is similar to the task the model of the checkpoint was trained on, you can already use TFRobertaModel for predictions without further training.\n"
          ]
        }
      ]
    },
    {
      "cell_type": "code",
      "source": [
        "roberta_classification_model2r = create_transformer_classification_model(roberta_model, num_train_layers = 2  )\n",
        "history2r = roberta_classification_model2r.fit(train_dataset2r, validation_data=val_dataset2r, epochs=EPOCHS)"
      ],
      "metadata": {
        "colab": {
          "base_uri": "https://localhost:8080/"
        },
        "outputId": "5b723d37-6bb8-4d2b-badb-e5d54cb18267",
        "id": "IOK-31yI_gf0"
      },
      "execution_count": null,
      "outputs": [
        {
          "output_type": "stream",
          "name": "stdout",
          "text": [
            "Epoch 1/2\n",
            "758/758 [==============================] - 406s 485ms/step - loss: 0.0559 - accuracy: 0.9804 - val_loss: 0.0291 - val_accuracy: 0.9884\n",
            "Epoch 2/2\n",
            "758/758 [==============================] - 364s 481ms/step - loss: 0.0262 - accuracy: 0.9914 - val_loss: 0.0277 - val_accuracy: 0.9923\n"
          ]
        }
      ]
    },
    {
      "cell_type": "code",
      "source": [
        "roberta_preds2r = (roberta_classification_model2r.predict(test_dataset2r) > 0.5).astype(\"int32\").flatten()\n"
      ],
      "metadata": {
        "colab": {
          "base_uri": "https://localhost:8080/"
        },
        "outputId": "233a9c09-d48e-4c7f-ce14-1b21021c99a9",
        "id": "vDuqfUfr_gf0"
      },
      "execution_count": null,
      "outputs": [
        {
          "output_type": "stream",
          "name": "stdout",
          "text": [
            "253/253 [==============================] - 39s 146ms/step\n"
          ]
        }
      ]
    },
    {
      "cell_type": "code",
      "source": [
        "print(\"RoBERTa Model Results:\")\n",
        "print(classification_report(test_labels2, roberta_preds2r))"
      ],
      "metadata": {
        "colab": {
          "base_uri": "https://localhost:8080/"
        },
        "outputId": "a2db7a40-c65b-4ef6-c0a1-61c31a18f41e",
        "id": "J7rxlwHN_gf1"
      },
      "execution_count": null,
      "outputs": [
        {
          "output_type": "stream",
          "name": "stdout",
          "text": [
            "RoBERTa Model Results:\n",
            "              precision    recall  f1-score   support\n",
            "\n",
            "           0       0.99      1.00      0.99      2078\n",
            "           1       1.00      0.99      0.99      1963\n",
            "\n",
            "    accuracy                           0.99      4041\n",
            "   macro avg       0.99      0.99      0.99      4041\n",
            "weighted avg       0.99      0.99      0.99      4041\n",
            "\n"
          ]
        }
      ]
    },
    {
      "cell_type": "code",
      "source": [
        "test_labels.head()"
      ],
      "metadata": {
        "colab": {
          "base_uri": "https://localhost:8080/",
          "height": 241
        },
        "id": "3lCZG4LSK09r",
        "outputId": "0e720398-9a87-4c28-9e6e-122e257b61fe"
      },
      "execution_count": null,
      "outputs": [
        {
          "output_type": "execute_result",
          "data": {
            "text/plain": [
              "8767     1\n",
              "6804     0\n",
              "43845    1\n",
              "31712    0\n",
              "17006    0\n",
              "Name: label, dtype: int64"
            ],
            "text/html": [
              "<div>\n",
              "<style scoped>\n",
              "    .dataframe tbody tr th:only-of-type {\n",
              "        vertical-align: middle;\n",
              "    }\n",
              "\n",
              "    .dataframe tbody tr th {\n",
              "        vertical-align: top;\n",
              "    }\n",
              "\n",
              "    .dataframe thead th {\n",
              "        text-align: right;\n",
              "    }\n",
              "</style>\n",
              "<table border=\"1\" class=\"dataframe\">\n",
              "  <thead>\n",
              "    <tr style=\"text-align: right;\">\n",
              "      <th></th>\n",
              "      <th>label</th>\n",
              "    </tr>\n",
              "  </thead>\n",
              "  <tbody>\n",
              "    <tr>\n",
              "      <th>8767</th>\n",
              "      <td>1</td>\n",
              "    </tr>\n",
              "    <tr>\n",
              "      <th>6804</th>\n",
              "      <td>0</td>\n",
              "    </tr>\n",
              "    <tr>\n",
              "      <th>43845</th>\n",
              "      <td>1</td>\n",
              "    </tr>\n",
              "    <tr>\n",
              "      <th>31712</th>\n",
              "      <td>0</td>\n",
              "    </tr>\n",
              "    <tr>\n",
              "      <th>17006</th>\n",
              "      <td>0</td>\n",
              "    </tr>\n",
              "  </tbody>\n",
              "</table>\n",
              "</div><br><label><b>dtype:</b> int64</label>"
            ]
          },
          "metadata": {},
          "execution_count": 100
        }
      ]
    },
    {
      "cell_type": "code",
      "source": [
        "test_labels_inv= 1 - test_labels #inverting bc old dataset had labels in reverse"
      ],
      "metadata": {
        "id": "95UqMOD_Kb2u"
      },
      "execution_count": null,
      "outputs": []
    },
    {
      "cell_type": "code",
      "source": [
        "test_labels_inv.head()"
      ],
      "metadata": {
        "colab": {
          "base_uri": "https://localhost:8080/",
          "height": 241
        },
        "id": "7m3csKcEK3Lj",
        "outputId": "85aa7157-434a-4957-ecdd-770fc69784c3"
      },
      "execution_count": null,
      "outputs": [
        {
          "output_type": "execute_result",
          "data": {
            "text/plain": [
              "8767     0\n",
              "6804     1\n",
              "43845    0\n",
              "31712    1\n",
              "17006    1\n",
              "Name: label, dtype: int64"
            ],
            "text/html": [
              "<div>\n",
              "<style scoped>\n",
              "    .dataframe tbody tr th:only-of-type {\n",
              "        vertical-align: middle;\n",
              "    }\n",
              "\n",
              "    .dataframe tbody tr th {\n",
              "        vertical-align: top;\n",
              "    }\n",
              "\n",
              "    .dataframe thead th {\n",
              "        text-align: right;\n",
              "    }\n",
              "</style>\n",
              "<table border=\"1\" class=\"dataframe\">\n",
              "  <thead>\n",
              "    <tr style=\"text-align: right;\">\n",
              "      <th></th>\n",
              "      <th>label</th>\n",
              "    </tr>\n",
              "  </thead>\n",
              "  <tbody>\n",
              "    <tr>\n",
              "      <th>8767</th>\n",
              "      <td>0</td>\n",
              "    </tr>\n",
              "    <tr>\n",
              "      <th>6804</th>\n",
              "      <td>1</td>\n",
              "    </tr>\n",
              "    <tr>\n",
              "      <th>43845</th>\n",
              "      <td>0</td>\n",
              "    </tr>\n",
              "    <tr>\n",
              "      <th>31712</th>\n",
              "      <td>1</td>\n",
              "    </tr>\n",
              "    <tr>\n",
              "      <th>17006</th>\n",
              "      <td>1</td>\n",
              "    </tr>\n",
              "  </tbody>\n",
              "</table>\n",
              "</div><br><label><b>dtype:</b> int64</label>"
            ]
          },
          "metadata": {},
          "execution_count": 101
        }
      ]
    },
    {
      "cell_type": "code",
      "source": [
        "test_encodings_b = encode_texts(test_texts, b_tokenizer)\n",
        "test_dataset_invb = tf.data.Dataset.from_tensor_slices((\n",
        "    {\n",
        "        \"input_ids\": test_encodings_b[\"input_ids\"],\n",
        "        \"attention_mask\": test_encodings_b[\"attention_mask\"]\n",
        "    },\n",
        "    test_labels_inv\n",
        ")).batch(BATCH_SIZE)"
      ],
      "metadata": {
        "id": "GZvaJ0FqKUHQ"
      },
      "execution_count": null,
      "outputs": []
    },
    {
      "cell_type": "code",
      "source": [
        "test_encodings_invr = encode_texts(test_texts, r_tokenizer)\n",
        "test_dataset_invr = tf.data.Dataset.from_tensor_slices((\n",
        "    {\n",
        "        \"input_ids\": test_encodings_invr[\"input_ids\"],\n",
        "        \"attention_mask\": test_encodings_invr[\"attention_mask\"]\n",
        "    },\n",
        "    test_labels_inv\n",
        ")).batch(BATCH_SIZE)"
      ],
      "metadata": {
        "id": "UNYmb0uPLD1H"
      },
      "execution_count": null,
      "outputs": []
    },
    {
      "cell_type": "code",
      "source": [
        "bert_preds_invb = (bert_classification_model2.predict(test_dataset_invb) > 0.5).astype(\"int32\").flatten()\n",
        "print(\"BERT Model Results:\")\n",
        "print(classification_report(test_labels_inv, bert_preds_invb))"
      ],
      "metadata": {
        "colab": {
          "base_uri": "https://localhost:8080/"
        },
        "id": "GmHeCITMLXOE",
        "outputId": "665d64c0-d9b4-41b1-e466-8e78440704f2"
      },
      "execution_count": null,
      "outputs": [
        {
          "output_type": "stream",
          "name": "stdout",
          "text": [
            "57/57 [==============================] - 8s 144ms/step\n",
            "BERT Model Results:\n",
            "              precision    recall  f1-score   support\n",
            "\n",
            "           0       0.65      0.35      0.45       428\n",
            "           1       0.58      0.83      0.69       470\n",
            "\n",
            "    accuracy                           0.60       898\n",
            "   macro avg       0.62      0.59      0.57       898\n",
            "weighted avg       0.62      0.60      0.57       898\n",
            "\n"
          ]
        }
      ]
    },
    {
      "cell_type": "code",
      "source": [
        "roberta_preds_invb = (roberta_classification_model2r.predict(test_dataset_invr) > 0.5).astype(\"int32\").flatten()\n",
        "print(\"RoBERTa Model Results:\")\n",
        "print(classification_report(test_labels_inv, roberta_preds_invb))"
      ],
      "metadata": {
        "colab": {
          "base_uri": "https://localhost:8080/"
        },
        "id": "tnmMpiliLSoG",
        "outputId": "36015196-6834-4d4d-d56a-240af1378561"
      },
      "execution_count": null,
      "outputs": [
        {
          "output_type": "stream",
          "name": "stdout",
          "text": [
            "57/57 [==============================] - 8s 138ms/step\n",
            "RoBERTa Model Results:\n",
            "              precision    recall  f1-score   support\n",
            "\n",
            "           0       0.47      0.89      0.61       428\n",
            "           1       0.44      0.08      0.14       470\n",
            "\n",
            "    accuracy                           0.47       898\n",
            "   macro avg       0.46      0.48      0.38       898\n",
            "weighted avg       0.45      0.47      0.36       898\n",
            "\n"
          ]
        }
      ]
    }
  ]
}